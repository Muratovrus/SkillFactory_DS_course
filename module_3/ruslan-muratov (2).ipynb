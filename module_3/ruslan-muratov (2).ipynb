{
 "cells": [
  {
   "cell_type": "markdown",
   "metadata": {},
   "source": [
    "# Predict TripAdvisor Rating\n",
    "## В этом соревновании нам предстоит предсказать рейтинг ресторана в TripAdvisor\n",
    "**По ходу задачи:**\n",
    "* Прокачаем работу с pandas\n",
    "* Научимся работать с Kaggle Notebooks\n",
    "* Поймем как делать предобработку различных данных\n",
    "* Научимся работать с пропущенными данными (Nan)\n",
    "* Познакомимся с различными видами кодирования признаков\n",
    "* Немного попробуем [Feature Engineering](https://ru.wikipedia.org/wiki/Конструирование_признаков) (генерировать новые признаки)\n",
    "* И совсем немного затронем ML\n",
    "* И многое другое...   "
   ]
  },
  {
   "cell_type": "markdown",
   "metadata": {},
   "source": [
    "# import"
   ]
  },
  {
   "cell_type": "code",
   "execution_count": 1,
   "metadata": {
    "_cell_guid": "b1076dfc-b9ad-4769-8c92-a6c4dae69d19",
    "_uuid": "8f2839f25d086af736a60e9eeb907d3b93b6e0e5",
    "execution": {
     "iopub.execute_input": "2021-06-09T10:37:45.945849Z",
     "iopub.status.busy": "2021-06-09T10:37:45.945479Z",
     "iopub.status.idle": "2021-06-09T10:37:45.967408Z",
     "shell.execute_reply": "2021-06-09T10:37:45.966464Z",
     "shell.execute_reply.started": "2021-06-09T10:37:45.945799Z"
    }
   },
   "outputs": [
    {
     "name": "stdout",
     "output_type": "stream",
     "text": [
      "/kaggle/input/ta-datacsv/ta_data.csv\n",
      "/kaggle/input/countries-of-the-world/countries of the world.csv\n",
      "/kaggle/input/sf-dst-restaurant-rating/sample_submission.csv\n",
      "/kaggle/input/sf-dst-restaurant-rating/main_task.csv\n",
      "/kaggle/input/sf-dst-restaurant-rating/kaggle_task.csv\n"
     ]
    }
   ],
   "source": [
    "# This Python 3 environment comes with many helpful analytics libraries installed\n",
    "# It is defined by the kaggle/python docker image: https://github.com/kaggle/docker-python\n",
    "# For example, here's several helpful packages to load in \n",
    "\n",
    "import numpy as np # linear algebra\n",
    "import pandas as pd # data processing, CSV file I/O (e.g. pd.read_csv)\n",
    "import ast\n",
    "import re\n",
    "from datetime import datetime, timedelta \n",
    "from sklearn.preprocessing import LabelEncoder, MultiLabelBinarizer\n",
    "from sklearn.preprocessing import StandardScaler\n",
    "from sklearn.preprocessing import MinMaxScaler\n",
    "\n",
    "import matplotlib.pyplot as plt\n",
    "import seaborn as sns \n",
    "%matplotlib inline\n",
    "\n",
    "# Загружаем специальный удобный инструмент для разделения датасета:\n",
    "from sklearn.model_selection import train_test_split\n",
    "\n",
    "# Input data files are available in the \"../input/\" directory.\n",
    "# For example, running this (by clicking run or pressing Shift+Enter) will list all files under the input directory\n",
    "\n",
    "import os\n",
    "for dirname, _, filenames in os.walk('/kaggle/input'):\n",
    "    for filename in filenames:\n",
    "        print(os.path.join(dirname, filename))\n",
    "\n",
    "# Any results you write to the current directory are saved as output."
   ]
  },
  {
   "cell_type": "code",
   "execution_count": 2,
   "metadata": {
    "execution": {
     "iopub.execute_input": "2021-06-09T10:37:45.989675Z",
     "iopub.status.busy": "2021-06-09T10:37:45.989382Z",
     "iopub.status.idle": "2021-06-09T10:37:45.993334Z",
     "shell.execute_reply": "2021-06-09T10:37:45.992696Z",
     "shell.execute_reply.started": "2021-06-09T10:37:45.989624Z"
    }
   },
   "outputs": [],
   "source": [
    "# всегда фиксируйте RANDOM_SEED, чтобы ваши эксперименты были воспроизводимы!\n",
    "RANDOM_SEED = 42"
   ]
  },
  {
   "cell_type": "code",
   "execution_count": 3,
   "metadata": {
    "execution": {
     "iopub.execute_input": "2021-06-09T10:37:46.013072Z",
     "iopub.status.busy": "2021-06-09T10:37:46.012523Z",
     "iopub.status.idle": "2021-06-09T10:37:48.499606Z",
     "shell.execute_reply": "2021-06-09T10:37:48.498558Z",
     "shell.execute_reply.started": "2021-06-09T10:37:46.013021Z"
    }
   },
   "outputs": [],
   "source": [
    "# зафиксируем версию пакетов, чтобы эксперименты были воспроизводимы:\n",
    "!pip freeze > requirements.txt"
   ]
  },
  {
   "cell_type": "markdown",
   "metadata": {},
   "source": [
    "# DATA"
   ]
  },
  {
   "cell_type": "code",
   "execution_count": 4,
   "metadata": {
    "_cell_guid": "79c7e3d0-c299-4dcb-8224-4455121ee9b0",
    "_uuid": "d629ff2d2480ee46fbb7e2d37f6b5fab8052498a",
    "execution": {
     "iopub.execute_input": "2021-06-09T10:37:48.502740Z",
     "iopub.status.busy": "2021-06-09T10:37:48.502429Z",
     "iopub.status.idle": "2021-06-09T10:37:48.751988Z",
     "shell.execute_reply": "2021-06-09T10:37:48.751015Z",
     "shell.execute_reply.started": "2021-06-09T10:37:48.502689Z"
    }
   },
   "outputs": [],
   "source": [
    "DATA_DIR = '/kaggle/input/sf-dst-restaurant-rating/'\n",
    "df_train = pd.read_csv(DATA_DIR+'/main_task.csv')\n",
    "df_test = pd.read_csv(DATA_DIR+'kaggle_task.csv')\n",
    "sample_submission = pd.read_csv(DATA_DIR+'/sample_submission.csv')"
   ]
  },
  {
   "cell_type": "markdown",
   "metadata": {},
   "source": [
    "### Добавил датасет из решения одного из участников соревнования"
   ]
  },
  {
   "cell_type": "code",
   "execution_count": 5,
   "metadata": {
    "execution": {
     "iopub.execute_input": "2021-06-09T10:37:48.753519Z",
     "iopub.status.busy": "2021-06-09T10:37:48.753219Z",
     "iopub.status.idle": "2021-06-09T10:37:48.766347Z",
     "shell.execute_reply": "2021-06-09T10:37:48.765322Z",
     "shell.execute_reply.started": "2021-06-09T10:37:48.753455Z"
    }
   },
   "outputs": [],
   "source": [
    "data_countries = pd.read_csv('/kaggle/input/countries-of-the-world/countries of the world.csv')"
   ]
  },
  {
   "cell_type": "code",
   "execution_count": 6,
   "metadata": {
    "execution": {
     "iopub.execute_input": "2021-06-09T10:37:48.768105Z",
     "iopub.status.busy": "2021-06-09T10:37:48.767842Z",
     "iopub.status.idle": "2021-06-09T10:37:48.795397Z",
     "shell.execute_reply": "2021-06-09T10:37:48.794257Z",
     "shell.execute_reply.started": "2021-06-09T10:37:48.768057Z"
    }
   },
   "outputs": [
    {
     "data": {
      "text/html": [
       "<div>\n",
       "<style scoped>\n",
       "    .dataframe tbody tr th:only-of-type {\n",
       "        vertical-align: middle;\n",
       "    }\n",
       "\n",
       "    .dataframe tbody tr th {\n",
       "        vertical-align: top;\n",
       "    }\n",
       "\n",
       "    .dataframe thead th {\n",
       "        text-align: right;\n",
       "    }\n",
       "</style>\n",
       "<table border=\"1\" class=\"dataframe\">\n",
       "  <thead>\n",
       "    <tr style=\"text-align: right;\">\n",
       "      <th></th>\n",
       "      <th>Country</th>\n",
       "      <th>Region</th>\n",
       "      <th>Population</th>\n",
       "      <th>Area (sq. mi.)</th>\n",
       "      <th>Pop. Density (per sq. mi.)</th>\n",
       "      <th>Coastline (coast/area ratio)</th>\n",
       "      <th>Net migration</th>\n",
       "      <th>Infant mortality (per 1000 births)</th>\n",
       "      <th>GDP ($ per capita)</th>\n",
       "      <th>Literacy (%)</th>\n",
       "      <th>Phones (per 1000)</th>\n",
       "      <th>Arable (%)</th>\n",
       "      <th>Crops (%)</th>\n",
       "      <th>Other (%)</th>\n",
       "      <th>Climate</th>\n",
       "      <th>Birthrate</th>\n",
       "      <th>Deathrate</th>\n",
       "      <th>Agriculture</th>\n",
       "      <th>Industry</th>\n",
       "      <th>Service</th>\n",
       "    </tr>\n",
       "  </thead>\n",
       "  <tbody>\n",
       "    <tr>\n",
       "      <th>174</th>\n",
       "      <td>St Pierre &amp; Miquelon</td>\n",
       "      <td>NORTHERN AMERICA</td>\n",
       "      <td>7026</td>\n",
       "      <td>242</td>\n",
       "      <td>29,0</td>\n",
       "      <td>49,59</td>\n",
       "      <td>-4,86</td>\n",
       "      <td>7,54</td>\n",
       "      <td>6900.0</td>\n",
       "      <td>99,0</td>\n",
       "      <td>683,2</td>\n",
       "      <td>13,04</td>\n",
       "      <td>0</td>\n",
       "      <td>86,96</td>\n",
       "      <td>NaN</td>\n",
       "      <td>13,52</td>\n",
       "      <td>6,83</td>\n",
       "      <td>NaN</td>\n",
       "      <td>NaN</td>\n",
       "      <td>NaN</td>\n",
       "    </tr>\n",
       "    <tr>\n",
       "      <th>49</th>\n",
       "      <td>Cote d'Ivoire</td>\n",
       "      <td>SUB-SAHARAN AFRICA</td>\n",
       "      <td>17654843</td>\n",
       "      <td>322460</td>\n",
       "      <td>54,8</td>\n",
       "      <td>0,16</td>\n",
       "      <td>-0,07</td>\n",
       "      <td>90,83</td>\n",
       "      <td>1400.0</td>\n",
       "      <td>50,9</td>\n",
       "      <td>14,6</td>\n",
       "      <td>9,75</td>\n",
       "      <td>13,84</td>\n",
       "      <td>76,41</td>\n",
       "      <td>2</td>\n",
       "      <td>35,11</td>\n",
       "      <td>14,84</td>\n",
       "      <td>0,279</td>\n",
       "      <td>0,171</td>\n",
       "      <td>0,55</td>\n",
       "    </tr>\n",
       "    <tr>\n",
       "      <th>14</th>\n",
       "      <td>Bahamas, The</td>\n",
       "      <td>LATIN AMER. &amp; CARIB</td>\n",
       "      <td>303770</td>\n",
       "      <td>13940</td>\n",
       "      <td>21,8</td>\n",
       "      <td>25,41</td>\n",
       "      <td>-2,2</td>\n",
       "      <td>25,21</td>\n",
       "      <td>16700.0</td>\n",
       "      <td>95,6</td>\n",
       "      <td>460,6</td>\n",
       "      <td>0,8</td>\n",
       "      <td>0,4</td>\n",
       "      <td>98,8</td>\n",
       "      <td>2</td>\n",
       "      <td>17,57</td>\n",
       "      <td>9,05</td>\n",
       "      <td>0,03</td>\n",
       "      <td>0,07</td>\n",
       "      <td>0,9</td>\n",
       "    </tr>\n",
       "    <tr>\n",
       "      <th>176</th>\n",
       "      <td>Samoa</td>\n",
       "      <td>OCEANIA</td>\n",
       "      <td>176908</td>\n",
       "      <td>2944</td>\n",
       "      <td>60,1</td>\n",
       "      <td>13,69</td>\n",
       "      <td>-11,7</td>\n",
       "      <td>27,71</td>\n",
       "      <td>5600.0</td>\n",
       "      <td>99,7</td>\n",
       "      <td>75,2</td>\n",
       "      <td>21,2</td>\n",
       "      <td>24,38</td>\n",
       "      <td>54,42</td>\n",
       "      <td>2</td>\n",
       "      <td>16,43</td>\n",
       "      <td>6,62</td>\n",
       "      <td>0,114</td>\n",
       "      <td>0,584</td>\n",
       "      <td>0,302</td>\n",
       "    </tr>\n",
       "    <tr>\n",
       "      <th>202</th>\n",
       "      <td>Togo</td>\n",
       "      <td>SUB-SAHARAN AFRICA</td>\n",
       "      <td>5548702</td>\n",
       "      <td>56785</td>\n",
       "      <td>97,7</td>\n",
       "      <td>0,10</td>\n",
       "      <td>0</td>\n",
       "      <td>66,61</td>\n",
       "      <td>1500.0</td>\n",
       "      <td>60,9</td>\n",
       "      <td>10,6</td>\n",
       "      <td>46,15</td>\n",
       "      <td>2,21</td>\n",
       "      <td>51,64</td>\n",
       "      <td>2</td>\n",
       "      <td>37,01</td>\n",
       "      <td>9,83</td>\n",
       "      <td>0,395</td>\n",
       "      <td>0,204</td>\n",
       "      <td>0,401</td>\n",
       "    </tr>\n",
       "  </tbody>\n",
       "</table>\n",
       "</div>"
      ],
      "text/plain": [
       "                   Country                               Region  Population  \\\n",
       "174  St Pierre & Miquelon   NORTHERN AMERICA                           7026   \n",
       "49          Cote d'Ivoire   SUB-SAHARAN AFRICA                     17654843   \n",
       "14           Bahamas, The               LATIN AMER. & CARIB          303770   \n",
       "176                 Samoa   OCEANIA                                  176908   \n",
       "202                  Togo   SUB-SAHARAN AFRICA                      5548702   \n",
       "\n",
       "     Area (sq. mi.) Pop. Density (per sq. mi.) Coastline (coast/area ratio)  \\\n",
       "174             242                       29,0                        49,59   \n",
       "49           322460                       54,8                         0,16   \n",
       "14            13940                       21,8                        25,41   \n",
       "176            2944                       60,1                        13,69   \n",
       "202           56785                       97,7                         0,10   \n",
       "\n",
       "    Net migration Infant mortality (per 1000 births)  GDP ($ per capita)  \\\n",
       "174         -4,86                               7,54              6900.0   \n",
       "49          -0,07                              90,83              1400.0   \n",
       "14           -2,2                              25,21             16700.0   \n",
       "176         -11,7                              27,71              5600.0   \n",
       "202             0                              66,61              1500.0   \n",
       "\n",
       "    Literacy (%) Phones (per 1000) Arable (%) Crops (%) Other (%) Climate  \\\n",
       "174         99,0             683,2      13,04         0     86,96     NaN   \n",
       "49          50,9              14,6       9,75     13,84     76,41       2   \n",
       "14          95,6             460,6        0,8       0,4      98,8       2   \n",
       "176         99,7              75,2       21,2     24,38     54,42       2   \n",
       "202         60,9              10,6      46,15      2,21     51,64       2   \n",
       "\n",
       "    Birthrate Deathrate Agriculture Industry Service  \n",
       "174     13,52      6,83         NaN      NaN     NaN  \n",
       "49      35,11     14,84       0,279    0,171    0,55  \n",
       "14      17,57      9,05        0,03     0,07     0,9  \n",
       "176     16,43      6,62       0,114    0,584   0,302  \n",
       "202     37,01      9,83       0,395    0,204   0,401  "
      ]
     },
     "execution_count": 6,
     "metadata": {},
     "output_type": "execute_result"
    }
   ],
   "source": [
    "data_countries.sample(5)"
   ]
  },
  {
   "cell_type": "code",
   "execution_count": 7,
   "metadata": {
    "execution": {
     "iopub.execute_input": "2021-06-09T10:37:48.800092Z",
     "iopub.status.busy": "2021-06-09T10:37:48.799710Z",
     "iopub.status.idle": "2021-06-09T10:37:48.842644Z",
     "shell.execute_reply": "2021-06-09T10:37:48.841478Z",
     "shell.execute_reply.started": "2021-06-09T10:37:48.800021Z"
    }
   },
   "outputs": [
    {
     "name": "stdout",
     "output_type": "stream",
     "text": [
      "<class 'pandas.core.frame.DataFrame'>\n",
      "RangeIndex: 40000 entries, 0 to 39999\n",
      "Data columns (total 10 columns):\n",
      "Restaurant_id        40000 non-null object\n",
      "City                 40000 non-null object\n",
      "Cuisine Style        30717 non-null object\n",
      "Ranking              40000 non-null float64\n",
      "Rating               40000 non-null float64\n",
      "Price Range          26114 non-null object\n",
      "Number of Reviews    37457 non-null float64\n",
      "Reviews              40000 non-null object\n",
      "URL_TA               40000 non-null object\n",
      "ID_TA                40000 non-null object\n",
      "dtypes: float64(3), object(7)\n",
      "memory usage: 3.1+ MB\n"
     ]
    }
   ],
   "source": [
    "df_train.info()"
   ]
  },
  {
   "cell_type": "code",
   "execution_count": 8,
   "metadata": {
    "execution": {
     "iopub.execute_input": "2021-06-09T10:37:48.846881Z",
     "iopub.status.busy": "2021-06-09T10:37:48.846601Z",
     "iopub.status.idle": "2021-06-09T10:37:48.864366Z",
     "shell.execute_reply": "2021-06-09T10:37:48.863371Z",
     "shell.execute_reply.started": "2021-06-09T10:37:48.846834Z"
    }
   },
   "outputs": [
    {
     "data": {
      "text/html": [
       "<div>\n",
       "<style scoped>\n",
       "    .dataframe tbody tr th:only-of-type {\n",
       "        vertical-align: middle;\n",
       "    }\n",
       "\n",
       "    .dataframe tbody tr th {\n",
       "        vertical-align: top;\n",
       "    }\n",
       "\n",
       "    .dataframe thead th {\n",
       "        text-align: right;\n",
       "    }\n",
       "</style>\n",
       "<table border=\"1\" class=\"dataframe\">\n",
       "  <thead>\n",
       "    <tr style=\"text-align: right;\">\n",
       "      <th></th>\n",
       "      <th>Restaurant_id</th>\n",
       "      <th>City</th>\n",
       "      <th>Cuisine Style</th>\n",
       "      <th>Ranking</th>\n",
       "      <th>Rating</th>\n",
       "      <th>Price Range</th>\n",
       "      <th>Number of Reviews</th>\n",
       "      <th>Reviews</th>\n",
       "      <th>URL_TA</th>\n",
       "      <th>ID_TA</th>\n",
       "    </tr>\n",
       "  </thead>\n",
       "  <tbody>\n",
       "    <tr>\n",
       "      <th>0</th>\n",
       "      <td>id_5569</td>\n",
       "      <td>Paris</td>\n",
       "      <td>['European', 'French', 'International']</td>\n",
       "      <td>5570.0</td>\n",
       "      <td>3.5</td>\n",
       "      <td>$$ - $$$</td>\n",
       "      <td>194.0</td>\n",
       "      <td>[['Good food at your doorstep', 'A good hotel ...</td>\n",
       "      <td>/Restaurant_Review-g187147-d1912643-Reviews-R_...</td>\n",
       "      <td>d1912643</td>\n",
       "    </tr>\n",
       "    <tr>\n",
       "      <th>1</th>\n",
       "      <td>id_1535</td>\n",
       "      <td>Stockholm</td>\n",
       "      <td>NaN</td>\n",
       "      <td>1537.0</td>\n",
       "      <td>4.0</td>\n",
       "      <td>NaN</td>\n",
       "      <td>10.0</td>\n",
       "      <td>[['Unique cuisine', 'Delicious Nepalese food']...</td>\n",
       "      <td>/Restaurant_Review-g189852-d7992032-Reviews-Bu...</td>\n",
       "      <td>d7992032</td>\n",
       "    </tr>\n",
       "    <tr>\n",
       "      <th>2</th>\n",
       "      <td>id_352</td>\n",
       "      <td>London</td>\n",
       "      <td>['Japanese', 'Sushi', 'Asian', 'Grill', 'Veget...</td>\n",
       "      <td>353.0</td>\n",
       "      <td>4.5</td>\n",
       "      <td>$$$$</td>\n",
       "      <td>688.0</td>\n",
       "      <td>[['Catch up with friends', 'Not exceptional'],...</td>\n",
       "      <td>/Restaurant_Review-g186338-d8632781-Reviews-RO...</td>\n",
       "      <td>d8632781</td>\n",
       "    </tr>\n",
       "    <tr>\n",
       "      <th>3</th>\n",
       "      <td>id_3456</td>\n",
       "      <td>Berlin</td>\n",
       "      <td>NaN</td>\n",
       "      <td>3458.0</td>\n",
       "      <td>5.0</td>\n",
       "      <td>NaN</td>\n",
       "      <td>3.0</td>\n",
       "      <td>[[], []]</td>\n",
       "      <td>/Restaurant_Review-g187323-d1358776-Reviews-Es...</td>\n",
       "      <td>d1358776</td>\n",
       "    </tr>\n",
       "    <tr>\n",
       "      <th>4</th>\n",
       "      <td>id_615</td>\n",
       "      <td>Munich</td>\n",
       "      <td>['German', 'Central European', 'Vegetarian Fri...</td>\n",
       "      <td>621.0</td>\n",
       "      <td>4.0</td>\n",
       "      <td>$$ - $$$</td>\n",
       "      <td>84.0</td>\n",
       "      <td>[['Best place to try a Bavarian food', 'Nice b...</td>\n",
       "      <td>/Restaurant_Review-g187309-d6864963-Reviews-Au...</td>\n",
       "      <td>d6864963</td>\n",
       "    </tr>\n",
       "  </tbody>\n",
       "</table>\n",
       "</div>"
      ],
      "text/plain": [
       "  Restaurant_id       City                                      Cuisine Style  \\\n",
       "0       id_5569      Paris            ['European', 'French', 'International']   \n",
       "1       id_1535  Stockholm                                                NaN   \n",
       "2        id_352     London  ['Japanese', 'Sushi', 'Asian', 'Grill', 'Veget...   \n",
       "3       id_3456     Berlin                                                NaN   \n",
       "4        id_615     Munich  ['German', 'Central European', 'Vegetarian Fri...   \n",
       "\n",
       "   Ranking  Rating Price Range  Number of Reviews  \\\n",
       "0   5570.0     3.5    $$ - $$$              194.0   \n",
       "1   1537.0     4.0         NaN               10.0   \n",
       "2    353.0     4.5        $$$$              688.0   \n",
       "3   3458.0     5.0         NaN                3.0   \n",
       "4    621.0     4.0    $$ - $$$               84.0   \n",
       "\n",
       "                                             Reviews  \\\n",
       "0  [['Good food at your doorstep', 'A good hotel ...   \n",
       "1  [['Unique cuisine', 'Delicious Nepalese food']...   \n",
       "2  [['Catch up with friends', 'Not exceptional'],...   \n",
       "3                                           [[], []]   \n",
       "4  [['Best place to try a Bavarian food', 'Nice b...   \n",
       "\n",
       "                                              URL_TA     ID_TA  \n",
       "0  /Restaurant_Review-g187147-d1912643-Reviews-R_...  d1912643  \n",
       "1  /Restaurant_Review-g189852-d7992032-Reviews-Bu...  d7992032  \n",
       "2  /Restaurant_Review-g186338-d8632781-Reviews-RO...  d8632781  \n",
       "3  /Restaurant_Review-g187323-d1358776-Reviews-Es...  d1358776  \n",
       "4  /Restaurant_Review-g187309-d6864963-Reviews-Au...  d6864963  "
      ]
     },
     "execution_count": 8,
     "metadata": {},
     "output_type": "execute_result"
    }
   ],
   "source": [
    "df_train.head(5)"
   ]
  },
  {
   "cell_type": "code",
   "execution_count": 9,
   "metadata": {
    "execution": {
     "iopub.execute_input": "2021-06-09T10:37:48.865952Z",
     "iopub.status.busy": "2021-06-09T10:37:48.865683Z",
     "iopub.status.idle": "2021-06-09T10:37:48.889351Z",
     "shell.execute_reply": "2021-06-09T10:37:48.888210Z",
     "shell.execute_reply.started": "2021-06-09T10:37:48.865908Z"
    }
   },
   "outputs": [
    {
     "name": "stdout",
     "output_type": "stream",
     "text": [
      "<class 'pandas.core.frame.DataFrame'>\n",
      "RangeIndex: 10000 entries, 0 to 9999\n",
      "Data columns (total 9 columns):\n",
      "Restaurant_id        10000 non-null object\n",
      "City                 10000 non-null object\n",
      "Cuisine Style        7693 non-null object\n",
      "Ranking              10000 non-null float64\n",
      "Price Range          6525 non-null object\n",
      "Number of Reviews    9343 non-null float64\n",
      "Reviews              9998 non-null object\n",
      "URL_TA               10000 non-null object\n",
      "ID_TA                10000 non-null object\n",
      "dtypes: float64(2), object(7)\n",
      "memory usage: 703.2+ KB\n"
     ]
    }
   ],
   "source": [
    "df_test.info()"
   ]
  },
  {
   "cell_type": "code",
   "execution_count": 10,
   "metadata": {
    "execution": {
     "iopub.execute_input": "2021-06-09T10:37:48.890607Z",
     "iopub.status.busy": "2021-06-09T10:37:48.890363Z",
     "iopub.status.idle": "2021-06-09T10:37:48.907951Z",
     "shell.execute_reply": "2021-06-09T10:37:48.907166Z",
     "shell.execute_reply.started": "2021-06-09T10:37:48.890559Z"
    }
   },
   "outputs": [
    {
     "data": {
      "text/html": [
       "<div>\n",
       "<style scoped>\n",
       "    .dataframe tbody tr th:only-of-type {\n",
       "        vertical-align: middle;\n",
       "    }\n",
       "\n",
       "    .dataframe tbody tr th {\n",
       "        vertical-align: top;\n",
       "    }\n",
       "\n",
       "    .dataframe thead th {\n",
       "        text-align: right;\n",
       "    }\n",
       "</style>\n",
       "<table border=\"1\" class=\"dataframe\">\n",
       "  <thead>\n",
       "    <tr style=\"text-align: right;\">\n",
       "      <th></th>\n",
       "      <th>Restaurant_id</th>\n",
       "      <th>City</th>\n",
       "      <th>Cuisine Style</th>\n",
       "      <th>Ranking</th>\n",
       "      <th>Price Range</th>\n",
       "      <th>Number of Reviews</th>\n",
       "      <th>Reviews</th>\n",
       "      <th>URL_TA</th>\n",
       "      <th>ID_TA</th>\n",
       "    </tr>\n",
       "  </thead>\n",
       "  <tbody>\n",
       "    <tr>\n",
       "      <th>0</th>\n",
       "      <td>id_0</td>\n",
       "      <td>Paris</td>\n",
       "      <td>['Bar', 'Pub']</td>\n",
       "      <td>12963.0</td>\n",
       "      <td>$$ - $$$</td>\n",
       "      <td>4.0</td>\n",
       "      <td>[[], []]</td>\n",
       "      <td>/Restaurant_Review-g187147-d10746918-Reviews-L...</td>\n",
       "      <td>d10746918</td>\n",
       "    </tr>\n",
       "    <tr>\n",
       "      <th>1</th>\n",
       "      <td>id_1</td>\n",
       "      <td>Helsinki</td>\n",
       "      <td>['European', 'Scandinavian', 'Gluten Free Opti...</td>\n",
       "      <td>106.0</td>\n",
       "      <td>$$ - $$$</td>\n",
       "      <td>97.0</td>\n",
       "      <td>[['Very good reviews!', 'Fine dining in Hakani...</td>\n",
       "      <td>/Restaurant_Review-g189934-d6674944-Reviews-Ra...</td>\n",
       "      <td>d6674944</td>\n",
       "    </tr>\n",
       "    <tr>\n",
       "      <th>2</th>\n",
       "      <td>id_2</td>\n",
       "      <td>Edinburgh</td>\n",
       "      <td>['Vegetarian Friendly']</td>\n",
       "      <td>810.0</td>\n",
       "      <td>$$ - $$$</td>\n",
       "      <td>28.0</td>\n",
       "      <td>[['Better than the Links', 'Ivy Black'], ['12/...</td>\n",
       "      <td>/Restaurant_Review-g186525-d13129638-Reviews-B...</td>\n",
       "      <td>d13129638</td>\n",
       "    </tr>\n",
       "    <tr>\n",
       "      <th>3</th>\n",
       "      <td>id_3</td>\n",
       "      <td>London</td>\n",
       "      <td>['Italian', 'Mediterranean', 'European', 'Vege...</td>\n",
       "      <td>1669.0</td>\n",
       "      <td>$$$$</td>\n",
       "      <td>202.0</td>\n",
       "      <td>[['Most exquisite', 'Delicious and authentic']...</td>\n",
       "      <td>/Restaurant_Review-g186338-d680417-Reviews-Qui...</td>\n",
       "      <td>d680417</td>\n",
       "    </tr>\n",
       "    <tr>\n",
       "      <th>4</th>\n",
       "      <td>id_4</td>\n",
       "      <td>Bratislava</td>\n",
       "      <td>['Italian', 'Mediterranean', 'European', 'Seaf...</td>\n",
       "      <td>37.0</td>\n",
       "      <td>$$$$</td>\n",
       "      <td>162.0</td>\n",
       "      <td>[['Always the best in bratislava', 'Very good ...</td>\n",
       "      <td>/Restaurant_Review-g274924-d1112354-Reviews-Ma...</td>\n",
       "      <td>d1112354</td>\n",
       "    </tr>\n",
       "  </tbody>\n",
       "</table>\n",
       "</div>"
      ],
      "text/plain": [
       "  Restaurant_id        City  \\\n",
       "0          id_0       Paris   \n",
       "1          id_1    Helsinki   \n",
       "2          id_2   Edinburgh   \n",
       "3          id_3      London   \n",
       "4          id_4  Bratislava   \n",
       "\n",
       "                                       Cuisine Style  Ranking Price Range  \\\n",
       "0                                     ['Bar', 'Pub']  12963.0    $$ - $$$   \n",
       "1  ['European', 'Scandinavian', 'Gluten Free Opti...    106.0    $$ - $$$   \n",
       "2                            ['Vegetarian Friendly']    810.0    $$ - $$$   \n",
       "3  ['Italian', 'Mediterranean', 'European', 'Vege...   1669.0        $$$$   \n",
       "4  ['Italian', 'Mediterranean', 'European', 'Seaf...     37.0        $$$$   \n",
       "\n",
       "   Number of Reviews                                            Reviews  \\\n",
       "0                4.0                                           [[], []]   \n",
       "1               97.0  [['Very good reviews!', 'Fine dining in Hakani...   \n",
       "2               28.0  [['Better than the Links', 'Ivy Black'], ['12/...   \n",
       "3              202.0  [['Most exquisite', 'Delicious and authentic']...   \n",
       "4              162.0  [['Always the best in bratislava', 'Very good ...   \n",
       "\n",
       "                                              URL_TA      ID_TA  \n",
       "0  /Restaurant_Review-g187147-d10746918-Reviews-L...  d10746918  \n",
       "1  /Restaurant_Review-g189934-d6674944-Reviews-Ra...   d6674944  \n",
       "2  /Restaurant_Review-g186525-d13129638-Reviews-B...  d13129638  \n",
       "3  /Restaurant_Review-g186338-d680417-Reviews-Qui...    d680417  \n",
       "4  /Restaurant_Review-g274924-d1112354-Reviews-Ma...   d1112354  "
      ]
     },
     "execution_count": 10,
     "metadata": {},
     "output_type": "execute_result"
    }
   ],
   "source": [
    "df_test.head(5)"
   ]
  },
  {
   "cell_type": "code",
   "execution_count": 11,
   "metadata": {
    "execution": {
     "iopub.execute_input": "2021-06-09T10:37:48.909416Z",
     "iopub.status.busy": "2021-06-09T10:37:48.909029Z",
     "iopub.status.idle": "2021-06-09T10:37:48.918940Z",
     "shell.execute_reply": "2021-06-09T10:37:48.918017Z",
     "shell.execute_reply.started": "2021-06-09T10:37:48.909366Z"
    }
   },
   "outputs": [
    {
     "data": {
      "text/html": [
       "<div>\n",
       "<style scoped>\n",
       "    .dataframe tbody tr th:only-of-type {\n",
       "        vertical-align: middle;\n",
       "    }\n",
       "\n",
       "    .dataframe tbody tr th {\n",
       "        vertical-align: top;\n",
       "    }\n",
       "\n",
       "    .dataframe thead th {\n",
       "        text-align: right;\n",
       "    }\n",
       "</style>\n",
       "<table border=\"1\" class=\"dataframe\">\n",
       "  <thead>\n",
       "    <tr style=\"text-align: right;\">\n",
       "      <th></th>\n",
       "      <th>Restaurant_id</th>\n",
       "      <th>Rating</th>\n",
       "    </tr>\n",
       "  </thead>\n",
       "  <tbody>\n",
       "    <tr>\n",
       "      <th>0</th>\n",
       "      <td>id_0</td>\n",
       "      <td>2.0</td>\n",
       "    </tr>\n",
       "    <tr>\n",
       "      <th>1</th>\n",
       "      <td>id_1</td>\n",
       "      <td>2.5</td>\n",
       "    </tr>\n",
       "    <tr>\n",
       "      <th>2</th>\n",
       "      <td>id_2</td>\n",
       "      <td>4.0</td>\n",
       "    </tr>\n",
       "    <tr>\n",
       "      <th>3</th>\n",
       "      <td>id_3</td>\n",
       "      <td>1.0</td>\n",
       "    </tr>\n",
       "    <tr>\n",
       "      <th>4</th>\n",
       "      <td>id_4</td>\n",
       "      <td>4.0</td>\n",
       "    </tr>\n",
       "  </tbody>\n",
       "</table>\n",
       "</div>"
      ],
      "text/plain": [
       "  Restaurant_id  Rating\n",
       "0          id_0     2.0\n",
       "1          id_1     2.5\n",
       "2          id_2     4.0\n",
       "3          id_3     1.0\n",
       "4          id_4     4.0"
      ]
     },
     "execution_count": 11,
     "metadata": {},
     "output_type": "execute_result"
    }
   ],
   "source": [
    "sample_submission.head(5)"
   ]
  },
  {
   "cell_type": "code",
   "execution_count": 12,
   "metadata": {
    "execution": {
     "iopub.execute_input": "2021-06-09T10:37:48.920559Z",
     "iopub.status.busy": "2021-06-09T10:37:48.920291Z",
     "iopub.status.idle": "2021-06-09T10:37:48.937533Z",
     "shell.execute_reply": "2021-06-09T10:37:48.936522Z",
     "shell.execute_reply.started": "2021-06-09T10:37:48.920506Z"
    }
   },
   "outputs": [
    {
     "name": "stdout",
     "output_type": "stream",
     "text": [
      "<class 'pandas.core.frame.DataFrame'>\n",
      "RangeIndex: 10000 entries, 0 to 9999\n",
      "Data columns (total 2 columns):\n",
      "Restaurant_id    10000 non-null object\n",
      "Rating           10000 non-null float64\n",
      "dtypes: float64(1), object(1)\n",
      "memory usage: 156.4+ KB\n"
     ]
    }
   ],
   "source": [
    "sample_submission.info()"
   ]
  },
  {
   "cell_type": "code",
   "execution_count": 13,
   "metadata": {
    "execution": {
     "iopub.execute_input": "2021-06-09T10:37:48.939483Z",
     "iopub.status.busy": "2021-06-09T10:37:48.939179Z",
     "iopub.status.idle": "2021-06-09T10:37:48.986487Z",
     "shell.execute_reply": "2021-06-09T10:37:48.985636Z",
     "shell.execute_reply.started": "2021-06-09T10:37:48.939426Z"
    }
   },
   "outputs": [],
   "source": [
    "# ВАЖНО! для корректной обработки признаков объединяем трейн и тест в один датасет\n",
    "df_train['sample'] = 1 # помечаем где у нас трейн\n",
    "df_test['sample'] = 0 # помечаем где у нас тест\n",
    "df_test['Rating'] = 0 # в тесте у нас нет значения Rating, мы его должны предсказать, по этому пока просто заполняем нулями\n",
    "\n",
    "data = df_test.append(df_train, sort=False).reset_index(drop=True) # объединяем"
   ]
  },
  {
   "cell_type": "code",
   "execution_count": 14,
   "metadata": {
    "execution": {
     "iopub.execute_input": "2021-06-09T10:37:48.988503Z",
     "iopub.status.busy": "2021-06-09T10:37:48.988232Z",
     "iopub.status.idle": "2021-06-09T10:37:49.001556Z",
     "shell.execute_reply": "2021-06-09T10:37:49.000677Z",
     "shell.execute_reply.started": "2021-06-09T10:37:48.988454Z"
    }
   },
   "outputs": [
    {
     "data": {
      "text/plain": [
       "Index(['Restaurant_id', 'City', 'Cuisine_Style', 'Ranking', 'Price_Range',\n",
       "       'Number_of_Reviews', 'Reviews', 'URL_TA', 'ID_TA', 'sample', 'Rating'],\n",
       "      dtype='object')"
      ]
     },
     "execution_count": 14,
     "metadata": {},
     "output_type": "execute_result"
    }
   ],
   "source": [
    "# для удобства переименуем некоторые колонки\n",
    "data.rename(\n",
    "    columns={'Cuisine Style': 'Cuisine_Style', 'Price Range': 'Price_Range', 'Number of Reviews': 'Number_of_Reviews'}, inplace=True)\n",
    "\n",
    "data.columns"
   ]
  },
  {
   "cell_type": "code",
   "execution_count": 15,
   "metadata": {
    "execution": {
     "iopub.execute_input": "2021-06-09T10:37:49.003521Z",
     "iopub.status.busy": "2021-06-09T10:37:49.003157Z",
     "iopub.status.idle": "2021-06-09T10:37:49.062426Z",
     "shell.execute_reply": "2021-06-09T10:37:49.061340Z",
     "shell.execute_reply.started": "2021-06-09T10:37:49.003474Z"
    }
   },
   "outputs": [
    {
     "name": "stdout",
     "output_type": "stream",
     "text": [
      "<class 'pandas.core.frame.DataFrame'>\n",
      "RangeIndex: 50000 entries, 0 to 49999\n",
      "Data columns (total 11 columns):\n",
      "Restaurant_id        50000 non-null object\n",
      "City                 50000 non-null object\n",
      "Cuisine_Style        38410 non-null object\n",
      "Ranking              50000 non-null float64\n",
      "Price_Range          32639 non-null object\n",
      "Number_of_Reviews    46800 non-null float64\n",
      "Reviews              49998 non-null object\n",
      "URL_TA               50000 non-null object\n",
      "ID_TA                50000 non-null object\n",
      "sample               50000 non-null int64\n",
      "Rating               50000 non-null float64\n",
      "dtypes: float64(3), int64(1), object(7)\n",
      "memory usage: 4.2+ MB\n"
     ]
    }
   ],
   "source": [
    "data.info()"
   ]
  },
  {
   "cell_type": "markdown",
   "metadata": {},
   "source": [
    "Подробнее по признакам:\n",
    "* City: Город \n",
    "* Cuisine Style: Кухня\n",
    "* Ranking: Ранг ресторана относительно других ресторанов в этом городе\n",
    "* Price Range: Цены в ресторане в 3 категориях\n",
    "* Number of Reviews: Количество отзывов\n",
    "* Reviews: 2 последних отзыва и даты этих отзывов\n",
    "* URL_TA: страница ресторана на 'www.tripadvisor.com' \n",
    "* ID_TA: ID ресторана в TripAdvisor\n",
    "* Rating: Рейтинг ресторана"
   ]
  },
  {
   "cell_type": "code",
   "execution_count": 16,
   "metadata": {
    "execution": {
     "iopub.execute_input": "2021-06-09T10:37:49.064485Z",
     "iopub.status.busy": "2021-06-09T10:37:49.064033Z",
     "iopub.status.idle": "2021-06-09T10:37:49.086882Z",
     "shell.execute_reply": "2021-06-09T10:37:49.086037Z",
     "shell.execute_reply.started": "2021-06-09T10:37:49.064358Z"
    }
   },
   "outputs": [
    {
     "data": {
      "text/html": [
       "<div>\n",
       "<style scoped>\n",
       "    .dataframe tbody tr th:only-of-type {\n",
       "        vertical-align: middle;\n",
       "    }\n",
       "\n",
       "    .dataframe tbody tr th {\n",
       "        vertical-align: top;\n",
       "    }\n",
       "\n",
       "    .dataframe thead th {\n",
       "        text-align: right;\n",
       "    }\n",
       "</style>\n",
       "<table border=\"1\" class=\"dataframe\">\n",
       "  <thead>\n",
       "    <tr style=\"text-align: right;\">\n",
       "      <th></th>\n",
       "      <th>Restaurant_id</th>\n",
       "      <th>City</th>\n",
       "      <th>Cuisine_Style</th>\n",
       "      <th>Ranking</th>\n",
       "      <th>Price_Range</th>\n",
       "      <th>Number_of_Reviews</th>\n",
       "      <th>Reviews</th>\n",
       "      <th>URL_TA</th>\n",
       "      <th>ID_TA</th>\n",
       "      <th>sample</th>\n",
       "      <th>Rating</th>\n",
       "    </tr>\n",
       "  </thead>\n",
       "  <tbody>\n",
       "    <tr>\n",
       "      <th>38647</th>\n",
       "      <td>id_3171</td>\n",
       "      <td>Lisbon</td>\n",
       "      <td>['Italian']</td>\n",
       "      <td>3174.0</td>\n",
       "      <td>NaN</td>\n",
       "      <td>10.0</td>\n",
       "      <td>[[], []]</td>\n",
       "      <td>/Restaurant_Review-g189158-d10403855-Reviews-C...</td>\n",
       "      <td>d10403855</td>\n",
       "      <td>1</td>\n",
       "      <td>3.5</td>\n",
       "    </tr>\n",
       "    <tr>\n",
       "      <th>28825</th>\n",
       "      <td>id_660</td>\n",
       "      <td>Edinburgh</td>\n",
       "      <td>['Cafe', 'Mediterranean', 'Turkish', 'Vegan Op...</td>\n",
       "      <td>661.0</td>\n",
       "      <td>$</td>\n",
       "      <td>83.0</td>\n",
       "      <td>[[\"I'm a regular because it's great!\", 'Fringe...</td>\n",
       "      <td>/Restaurant_Review-g186525-d5850439-Reviews-Ol...</td>\n",
       "      <td>d5850439</td>\n",
       "      <td>1</td>\n",
       "      <td>4.5</td>\n",
       "    </tr>\n",
       "    <tr>\n",
       "      <th>39508</th>\n",
       "      <td>id_422</td>\n",
       "      <td>Ljubljana</td>\n",
       "      <td>['European', 'Slovenian']</td>\n",
       "      <td>423.0</td>\n",
       "      <td>$$ - $$$</td>\n",
       "      <td>9.0</td>\n",
       "      <td>[['Slovenian food', 'Good food, reasonable pri...</td>\n",
       "      <td>/Restaurant_Review-g274873-d13196545-Reviews-S...</td>\n",
       "      <td>d13196545</td>\n",
       "      <td>1</td>\n",
       "      <td>4.0</td>\n",
       "    </tr>\n",
       "    <tr>\n",
       "      <th>5222</th>\n",
       "      <td>id_5222</td>\n",
       "      <td>Rome</td>\n",
       "      <td>['Italian', 'Mediterranean', 'Vegetarian Frien...</td>\n",
       "      <td>1641.0</td>\n",
       "      <td>$$ - $$$</td>\n",
       "      <td>276.0</td>\n",
       "      <td>[['So Good!', 'Entertaining'], ['11/09/2017', ...</td>\n",
       "      <td>/Restaurant_Review-g187791-d1753728-Reviews-Ri...</td>\n",
       "      <td>d1753728</td>\n",
       "      <td>0</td>\n",
       "      <td>0.0</td>\n",
       "    </tr>\n",
       "    <tr>\n",
       "      <th>23419</th>\n",
       "      <td>id_1990</td>\n",
       "      <td>London</td>\n",
       "      <td>['Cafe', 'British', 'Mediterranean', 'Turkish'...</td>\n",
       "      <td>1994.0</td>\n",
       "      <td>$</td>\n",
       "      <td>62.0</td>\n",
       "      <td>[['Great little cafe with wonderful home made....</td>\n",
       "      <td>/Restaurant_Review-g186338-d6654160-Reviews-Ol...</td>\n",
       "      <td>d6654160</td>\n",
       "      <td>1</td>\n",
       "      <td>5.0</td>\n",
       "    </tr>\n",
       "  </tbody>\n",
       "</table>\n",
       "</div>"
      ],
      "text/plain": [
       "      Restaurant_id       City  \\\n",
       "38647       id_3171     Lisbon   \n",
       "28825        id_660  Edinburgh   \n",
       "39508        id_422  Ljubljana   \n",
       "5222        id_5222       Rome   \n",
       "23419       id_1990     London   \n",
       "\n",
       "                                           Cuisine_Style  Ranking Price_Range  \\\n",
       "38647                                        ['Italian']   3174.0         NaN   \n",
       "28825  ['Cafe', 'Mediterranean', 'Turkish', 'Vegan Op...    661.0           $   \n",
       "39508                          ['European', 'Slovenian']    423.0    $$ - $$$   \n",
       "5222   ['Italian', 'Mediterranean', 'Vegetarian Frien...   1641.0    $$ - $$$   \n",
       "23419  ['Cafe', 'British', 'Mediterranean', 'Turkish'...   1994.0           $   \n",
       "\n",
       "       Number_of_Reviews                                            Reviews  \\\n",
       "38647               10.0                                           [[], []]   \n",
       "28825               83.0  [[\"I'm a regular because it's great!\", 'Fringe...   \n",
       "39508                9.0  [['Slovenian food', 'Good food, reasonable pri...   \n",
       "5222               276.0  [['So Good!', 'Entertaining'], ['11/09/2017', ...   \n",
       "23419               62.0  [['Great little cafe with wonderful home made....   \n",
       "\n",
       "                                                  URL_TA      ID_TA  sample  \\\n",
       "38647  /Restaurant_Review-g189158-d10403855-Reviews-C...  d10403855       1   \n",
       "28825  /Restaurant_Review-g186525-d5850439-Reviews-Ol...   d5850439       1   \n",
       "39508  /Restaurant_Review-g274873-d13196545-Reviews-S...  d13196545       1   \n",
       "5222   /Restaurant_Review-g187791-d1753728-Reviews-Ri...   d1753728       0   \n",
       "23419  /Restaurant_Review-g186338-d6654160-Reviews-Ol...   d6654160       1   \n",
       "\n",
       "       Rating  \n",
       "38647     3.5  \n",
       "28825     4.5  \n",
       "39508     4.0  \n",
       "5222      0.0  \n",
       "23419     5.0  "
      ]
     },
     "execution_count": 16,
     "metadata": {},
     "output_type": "execute_result"
    }
   ],
   "source": [
    "data.sample(5)"
   ]
  },
  {
   "cell_type": "code",
   "execution_count": 17,
   "metadata": {
    "execution": {
     "iopub.execute_input": "2021-06-09T10:37:49.088468Z",
     "iopub.status.busy": "2021-06-09T10:37:49.088229Z",
     "iopub.status.idle": "2021-06-09T10:37:49.111167Z",
     "shell.execute_reply": "2021-06-09T10:37:49.109406Z",
     "shell.execute_reply.started": "2021-06-09T10:37:49.088429Z"
    }
   },
   "outputs": [
    {
     "data": {
      "text/plain": [
       "\"[['Very good reviews!', 'Fine dining in Hakaniemi'], ['12/05/2017', '10/29/2017']]\""
      ]
     },
     "execution_count": 17,
     "metadata": {},
     "output_type": "execute_result"
    }
   ],
   "source": [
    "data.Reviews[1]"
   ]
  },
  {
   "cell_type": "markdown",
   "metadata": {},
   "source": [
    "Как видим, большинство признаков у нас требует очистки и предварительной обработки."
   ]
  },
  {
   "cell_type": "markdown",
   "metadata": {},
   "source": [
    "# Cleaning and Prepping Data\n",
    "Обычно данные содержат в себе кучу мусора, который необходимо почистить, для того чтобы привести их в приемлемый формат. Чистка данных — это необходимый этап решения почти любой реальной задачи.   \n",
    "![](https://analyticsindiamag.com/wp-content/uploads/2018/01/data-cleaning.png)"
   ]
  },
  {
   "cell_type": "markdown",
   "metadata": {},
   "source": [
    "## 1. Обработка NAN \n",
    "У наличия пропусков могут быть разные причины, но пропуски нужно либо заполнить, либо исключить из набора полностью. Но с пропусками нужно быть внимательным, **даже отсутствие информации может быть важным признаком!**   \n",
    "По этому перед обработкой NAN лучше вынести информацию о наличии пропуска как отдельный признак "
   ]
  },
  {
   "cell_type": "code",
   "execution_count": 18,
   "metadata": {
    "execution": {
     "iopub.execute_input": "2021-06-09T10:37:49.115088Z",
     "iopub.status.busy": "2021-06-09T10:37:49.114530Z",
     "iopub.status.idle": "2021-06-09T10:37:49.124743Z",
     "shell.execute_reply": "2021-06-09T10:37:49.123401Z",
     "shell.execute_reply.started": "2021-06-09T10:37:49.114959Z"
    }
   },
   "outputs": [
    {
     "data": {
      "text/plain": [
       "0                                                 [[], []]\n",
       "1        [['Very good reviews!', 'Fine dining in Hakani...\n",
       "2        [['Better than the Links', 'Ivy Black'], ['12/...\n",
       "3        [['Most exquisite', 'Delicious and authentic']...\n",
       "4        [['Always the best in bratislava', 'Very good ...\n",
       "                               ...                        \n",
       "49995    [['The real Italian experience!', 'Wonderful f...\n",
       "49996    [['Parisian atmosphere', 'Bit pricey but inter...\n",
       "49997    [['Good by swedish standards', 'A hidden jewel...\n",
       "49998    [['Underground restaurant', 'Oldest Restaurant...\n",
       "49999    [['Average', 'Nice an informal'], ['01/31/2016...\n",
       "Name: Reviews, Length: 50000, dtype: object"
      ]
     },
     "execution_count": 18,
     "metadata": {},
     "output_type": "execute_result"
    }
   ],
   "source": [
    "# В столбце Reviews имеется 2 пропуска, посмотрим на остальные значения\n",
    "data['Reviews']"
   ]
  },
  {
   "cell_type": "code",
   "execution_count": 19,
   "metadata": {
    "execution": {
     "iopub.execute_input": "2021-06-09T10:37:49.127252Z",
     "iopub.status.busy": "2021-06-09T10:37:49.126852Z",
     "iopub.status.idle": "2021-06-09T10:37:49.144355Z",
     "shell.execute_reply": "2021-06-09T10:37:49.143441Z",
     "shell.execute_reply.started": "2021-06-09T10:37:49.127187Z"
    }
   },
   "outputs": [],
   "source": [
    "# Заменим пустые значения на аналогичные\n",
    "data['Reviews'].fillna('[[], []]', inplace=True)"
   ]
  },
  {
   "cell_type": "code",
   "execution_count": 20,
   "metadata": {
    "execution": {
     "iopub.execute_input": "2021-06-09T10:37:49.146232Z",
     "iopub.status.busy": "2021-06-09T10:37:49.145823Z",
     "iopub.status.idle": "2021-06-09T10:37:49.172207Z",
     "shell.execute_reply": "2021-06-09T10:37:49.171545Z",
     "shell.execute_reply.started": "2021-06-09T10:37:49.146118Z"
    }
   },
   "outputs": [],
   "source": [
    "# Сохраним информацию о наблюдениях с пропусками\n",
    "data['Number_of_Reviews_isNAN'] = pd.isna(\n",
    "    data['Number_of_Reviews']).astype('uint8')\n",
    "data['Cuisine_Style_isNAN'] = pd.isna(data['Cuisine_Style']).astype('uint8')\n",
    "data['Price_Range_isNAN'] = pd.isna(data['Price_Range']).astype('uint8')"
   ]
  },
  {
   "cell_type": "code",
   "execution_count": 21,
   "metadata": {
    "execution": {
     "iopub.execute_input": "2021-06-09T10:37:49.173565Z",
     "iopub.status.busy": "2021-06-09T10:37:49.173192Z",
     "iopub.status.idle": "2021-06-09T10:37:51.633034Z",
     "shell.execute_reply": "2021-06-09T10:37:51.632084Z",
     "shell.execute_reply.started": "2021-06-09T10:37:49.173527Z"
    }
   },
   "outputs": [
    {
     "data": {
      "text/plain": [
       "<matplotlib.axes._subplots.AxesSubplot at 0x7f1e1f7a8eb8>"
      ]
     },
     "execution_count": 21,
     "metadata": {},
     "output_type": "execute_result"
    },
    {
     "data": {
      "image/png": "[encoded data removed]",
      "text/plain": [
       "<Figure size 1080x1080 with 2 Axes>"
      ]
     },
     "metadata": {
      "needs_background": "light"
     },
     "output_type": "display_data"
    }
   ],
   "source": [
    "# Посмотрим визуально на наши пропуски\n",
    "plt.subplots(figsize=(15, 15))\n",
    "sns.heatmap(data.isnull())"
   ]
  },
  {
   "cell_type": "code",
   "execution_count": 22,
   "metadata": {
    "execution": {
     "iopub.execute_input": "2021-06-09T10:37:51.635240Z",
     "iopub.status.busy": "2021-06-09T10:37:51.634692Z",
     "iopub.status.idle": "2021-06-09T10:37:53.824574Z",
     "shell.execute_reply": "2021-06-09T10:37:53.823720Z",
     "shell.execute_reply.started": "2021-06-09T10:37:51.635186Z"
    }
   },
   "outputs": [],
   "source": [
    "# Заполним пропуски в столбце Number_of_Reviews на основании информации\n",
    "# из стобца Reviews\n",
    "def number_reviews(row):\n",
    "    if pd.isnull(row.Number_of_Reviews):\n",
    "        if len(row.Reviews) > 8:\n",
    "            return 1\n",
    "        return 0\n",
    "    return row.Number_of_Reviews\n",
    "\n",
    "\n",
    "# Применяем нашу функцию\n",
    "data['Number_of_Reviews'] = data.apply(number_reviews, 1)"
   ]
  },
  {
   "cell_type": "code",
   "execution_count": 23,
   "metadata": {
    "execution": {
     "iopub.execute_input": "2021-06-09T10:37:53.827004Z",
     "iopub.status.busy": "2021-06-09T10:37:53.826313Z",
     "iopub.status.idle": "2021-06-09T10:37:53.840491Z",
     "shell.execute_reply": "2021-06-09T10:37:53.839723Z",
     "shell.execute_reply.started": "2021-06-09T10:37:53.826938Z"
    }
   },
   "outputs": [
    {
     "data": {
      "text/plain": [
       "2.0       2403\n",
       "3.0       2042\n",
       "0.0       2024\n",
       "4.0       1707\n",
       "5.0       1471\n",
       "          ... \n",
       "1968.0       1\n",
       "4738.0       1\n",
       "2356.0       1\n",
       "2006.0       1\n",
       "1543.0       1\n",
       "Name: Number_of_Reviews, Length: 1575, dtype: int64"
      ]
     },
     "execution_count": 23,
     "metadata": {},
     "output_type": "execute_result"
    }
   ],
   "source": [
    "data['Number_of_Reviews'].value_counts()"
   ]
  },
  {
   "cell_type": "code",
   "execution_count": 24,
   "metadata": {
    "execution": {
     "iopub.execute_input": "2021-06-09T10:37:53.842267Z",
     "iopub.status.busy": "2021-06-09T10:37:53.842012Z",
     "iopub.status.idle": "2021-06-09T10:37:53.860246Z",
     "shell.execute_reply": "2021-06-09T10:37:53.859472Z",
     "shell.execute_reply.started": "2021-06-09T10:37:53.842224Z"
    }
   },
   "outputs": [
    {
     "data": {
      "text/plain": [
       "$$ - $$$    23041\n",
       "$            7816\n",
       "$$$$         1782\n",
       "Name: Price_Range, dtype: int64"
      ]
     },
     "execution_count": 24,
     "metadata": {},
     "output_type": "execute_result"
    }
   ],
   "source": [
    "# посмотрим на значения в столбце Price_Range\n",
    "data['Price_Range'].value_counts()"
   ]
  },
  {
   "cell_type": "code",
   "execution_count": 25,
   "metadata": {
    "execution": {
     "iopub.execute_input": "2021-06-09T10:37:53.861796Z",
     "iopub.status.busy": "2021-06-09T10:37:53.861543Z",
     "iopub.status.idle": "2021-06-09T10:37:53.871848Z",
     "shell.execute_reply": "2021-06-09T10:37:53.871083Z",
     "shell.execute_reply.started": "2021-06-09T10:37:53.861754Z"
    }
   },
   "outputs": [],
   "source": [
    "# Самый распространённый средний ценовой сегмент, заполним пропуски им\n",
    "data['Price_Range'].fillna('$$ - $$$', inplace=True)"
   ]
  },
  {
   "cell_type": "code",
   "execution_count": 26,
   "metadata": {
    "execution": {
     "iopub.execute_input": "2021-06-09T10:37:53.873438Z",
     "iopub.status.busy": "2021-06-09T10:37:53.873202Z",
     "iopub.status.idle": "2021-06-09T10:37:53.886638Z",
     "shell.execute_reply": "2021-06-09T10:37:53.885907Z",
     "shell.execute_reply.started": "2021-06-09T10:37:53.873398Z"
    }
   },
   "outputs": [],
   "source": [
    "# Пропуски в Cuisine_Style заменим на значение European\n",
    "data.Cuisine_Style = data.Cuisine_Style.fillna(value='European')"
   ]
  },
  {
   "cell_type": "code",
   "execution_count": 27,
   "metadata": {
    "execution": {
     "iopub.execute_input": "2021-06-09T10:37:53.888394Z",
     "iopub.status.busy": "2021-06-09T10:37:53.888110Z",
     "iopub.status.idle": "2021-06-09T10:37:55.158000Z",
     "shell.execute_reply": "2021-06-09T10:37:55.157013Z",
     "shell.execute_reply.started": "2021-06-09T10:37:53.888331Z"
    }
   },
   "outputs": [
    {
     "name": "stdout",
     "output_type": "stream",
     "text": [
      "<class 'pandas.core.frame.DataFrame'>\n",
      "RangeIndex: 227 entries, 0 to 226\n",
      "Data columns (total 20 columns):\n",
      "Country                               227 non-null object\n",
      "Region                                227 non-null object\n",
      "Population                            227 non-null int64\n",
      "Area (sq. mi.)                        227 non-null int64\n",
      "Pop. Density (per sq. mi.)            227 non-null object\n",
      "Coastline (coast/area ratio)          227 non-null object\n",
      "Net migration                         224 non-null object\n",
      "Infant mortality (per 1000 births)    224 non-null object\n",
      "GDP ($ per capita)                    226 non-null float64\n",
      "Literacy (%)                          209 non-null object\n",
      "Phones (per 1000)                     223 non-null object\n",
      "Arable (%)                            225 non-null object\n",
      "Crops (%)                             225 non-null object\n",
      "Other (%)                             225 non-null object\n",
      "Climate                               205 non-null object\n",
      "Birthrate                             224 non-null object\n",
      "Deathrate                             223 non-null object\n",
      "Agriculture                           212 non-null object\n",
      "Industry                              211 non-null object\n",
      "Service                               212 non-null object\n",
      "dtypes: float64(1), int64(2), object(17)\n",
      "memory usage: 35.6+ KB\n"
     ]
    },
    {
     "data": {
      "image/png": "[encoded data removed]",
      "text/plain": [
       "<Figure size 1080x1080 with 2 Axes>"
      ]
     },
     "metadata": {
      "needs_background": "light"
     },
     "output_type": "display_data"
    }
   ],
   "source": [
    "# Проверим пропуски в подгруженных датасетах\n",
    "# Посмотрим визуально на наши пропуски\n",
    "plt.subplots(figsize=(15, 15))\n",
    "sns.heatmap(data_countries.isnull())\n",
    "data_countries.info()"
   ]
  },
  {
   "cell_type": "markdown",
   "metadata": {},
   "source": [
    "### 2. Обработка признаков\n",
    "Для начала посмотрим какие признаки у нас могут быть категориальными."
   ]
  },
  {
   "cell_type": "code",
   "execution_count": 28,
   "metadata": {
    "execution": {
     "iopub.execute_input": "2021-06-09T10:37:55.160312Z",
     "iopub.status.busy": "2021-06-09T10:37:55.159723Z",
     "iopub.status.idle": "2021-06-09T10:37:55.312227Z",
     "shell.execute_reply": "2021-06-09T10:37:55.311416Z",
     "shell.execute_reply.started": "2021-06-09T10:37:55.160252Z"
    }
   },
   "outputs": [
    {
     "data": {
      "text/plain": [
       "Restaurant_id              13094\n",
       "City                          31\n",
       "Cuisine_Style              10732\n",
       "Ranking                    12975\n",
       "Price_Range                    3\n",
       "Number_of_Reviews           1575\n",
       "Reviews                    41857\n",
       "URL_TA                     49963\n",
       "ID_TA                      49963\n",
       "sample                         2\n",
       "Rating                        10\n",
       "Number_of_Reviews_isNAN        2\n",
       "Cuisine_Style_isNAN            2\n",
       "Price_Range_isNAN              2\n",
       "dtype: int64"
      ]
     },
     "execution_count": 28,
     "metadata": {},
     "output_type": "execute_result"
    }
   ],
   "source": [
    "data.nunique(dropna=False)"
   ]
  },
  {
   "cell_type": "markdown",
   "metadata": {},
   "source": [
    "Какие признаки можно считать категориальными?"
   ]
  },
  {
   "cell_type": "markdown",
   "metadata": {},
   "source": [
    "Для кодирования категориальных признаков есть множество подходов:\n",
    "* Label Encoding\n",
    "* One-Hot Encoding\n",
    "* Target Encoding\n",
    "* Hashing\n",
    "\n",
    "Выбор кодирования зависит от признака и выбраной модели.\n",
    "Не будем сейчас сильно погружаться в эту тематику, давайте посмотрим лучше пример с One-Hot Encoding:\n",
    "![](https://i.imgur.com/mtimFxh.png)"
   ]
  },
  {
   "cell_type": "markdown",
   "metadata": {},
   "source": [
    "## Пробежимся по всем признакам, а после закодируем наиболее успешные для нашей модели."
   ]
  },
  {
   "cell_type": "code",
   "execution_count": 29,
   "metadata": {
    "execution": {
     "iopub.execute_input": "2021-06-09T10:37:55.313875Z",
     "iopub.status.busy": "2021-06-09T10:37:55.313439Z",
     "iopub.status.idle": "2021-06-09T10:37:55.344519Z",
     "shell.execute_reply": "2021-06-09T10:37:55.343771Z",
     "shell.execute_reply.started": "2021-06-09T10:37:55.313824Z"
    }
   },
   "outputs": [
    {
     "data": {
      "text/plain": [
       "id_633      19\n",
       "id_436      19\n",
       "id_227      19\n",
       "id_871      19\n",
       "id_344      18\n",
       "            ..\n",
       "id_11948     1\n",
       "id_8708      1\n",
       "id_10315     1\n",
       "id_8134      1\n",
       "id_6313      1\n",
       "Name: Restaurant_id, Length: 13094, dtype: int64"
      ]
     },
     "execution_count": 29,
     "metadata": {},
     "output_type": "execute_result"
    }
   ],
   "source": [
    "# посмотрим на признак Restaurant_id\n",
    "data.Restaurant_id.value_counts()"
   ]
  },
  {
   "cell_type": "code",
   "execution_count": 30,
   "metadata": {
    "execution": {
     "iopub.execute_input": "2021-06-09T10:37:55.346212Z",
     "iopub.status.busy": "2021-06-09T10:37:55.345758Z",
     "iopub.status.idle": "2021-06-09T10:37:55.373299Z",
     "shell.execute_reply": "2021-06-09T10:37:55.372459Z",
     "shell.execute_reply.started": "2021-06-09T10:37:55.346171Z"
    }
   },
   "outputs": [
    {
     "data": {
      "text/html": [
       "<div>\n",
       "<style scoped>\n",
       "    .dataframe tbody tr th:only-of-type {\n",
       "        vertical-align: middle;\n",
       "    }\n",
       "\n",
       "    .dataframe tbody tr th {\n",
       "        vertical-align: top;\n",
       "    }\n",
       "\n",
       "    .dataframe thead th {\n",
       "        text-align: right;\n",
       "    }\n",
       "</style>\n",
       "<table border=\"1\" class=\"dataframe\">\n",
       "  <thead>\n",
       "    <tr style=\"text-align: right;\">\n",
       "      <th></th>\n",
       "      <th>Restaurant_id</th>\n",
       "      <th>City</th>\n",
       "      <th>Cuisine_Style</th>\n",
       "      <th>Ranking</th>\n",
       "      <th>Price_Range</th>\n",
       "      <th>Number_of_Reviews</th>\n",
       "      <th>Reviews</th>\n",
       "      <th>URL_TA</th>\n",
       "      <th>ID_TA</th>\n",
       "      <th>sample</th>\n",
       "      <th>Rating</th>\n",
       "      <th>Number_of_Reviews_isNAN</th>\n",
       "      <th>Cuisine_Style_isNAN</th>\n",
       "      <th>Price_Range_isNAN</th>\n",
       "    </tr>\n",
       "  </thead>\n",
       "  <tbody>\n",
       "    <tr>\n",
       "      <th>227</th>\n",
       "      <td>id_227</td>\n",
       "      <td>Madrid</td>\n",
       "      <td>European</td>\n",
       "      <td>3208.0</td>\n",
       "      <td>$$ - $$$</td>\n",
       "      <td>23.0</td>\n",
       "      <td>[['40th', 'The Center of Spain'], ['07/23/2017...</td>\n",
       "      <td>/Restaurant_Review-g187514-d10040653-Reviews-P...</td>\n",
       "      <td>d10040653</td>\n",
       "      <td>0</td>\n",
       "      <td>0.0</td>\n",
       "      <td>0</td>\n",
       "      <td>1</td>\n",
       "      <td>1</td>\n",
       "    </tr>\n",
       "    <tr>\n",
       "      <th>11065</th>\n",
       "      <td>id_227</td>\n",
       "      <td>Luxembourg</td>\n",
       "      <td>['Lebanese', 'Mediterranean', 'Middle Eastern'...</td>\n",
       "      <td>228.0</td>\n",
       "      <td>$$ - $$$</td>\n",
       "      <td>21.0</td>\n",
       "      <td>[['Nice little Lebanese restaurant', 'Great fo...</td>\n",
       "      <td>/Restaurant_Review-g190356-d10275783-Reviews-K...</td>\n",
       "      <td>d10275783</td>\n",
       "      <td>1</td>\n",
       "      <td>4.0</td>\n",
       "      <td>0</td>\n",
       "      <td>0</td>\n",
       "      <td>0</td>\n",
       "    </tr>\n",
       "    <tr>\n",
       "      <th>14727</th>\n",
       "      <td>id_227</td>\n",
       "      <td>Bratislava</td>\n",
       "      <td>['Healthy', 'European', 'Mediterranean', 'Vege...</td>\n",
       "      <td>228.0</td>\n",
       "      <td>$$ - $$$</td>\n",
       "      <td>122.0</td>\n",
       "      <td>[['Great fish (African sharptooth catfish)', '...</td>\n",
       "      <td>/Restaurant_Review-g274924-d4009959-Reviews-Me...</td>\n",
       "      <td>d4009959</td>\n",
       "      <td>1</td>\n",
       "      <td>4.0</td>\n",
       "      <td>0</td>\n",
       "      <td>0</td>\n",
       "      <td>0</td>\n",
       "    </tr>\n",
       "    <tr>\n",
       "      <th>16237</th>\n",
       "      <td>id_227</td>\n",
       "      <td>Athens</td>\n",
       "      <td>['European', 'Greek', 'Mediterranean']</td>\n",
       "      <td>228.0</td>\n",
       "      <td>$$ - $$$</td>\n",
       "      <td>220.0</td>\n",
       "      <td>[['Spectacular view and food', 'Great view'], ...</td>\n",
       "      <td>/Restaurant_Review-g189400-d1898490-Reviews-Ol...</td>\n",
       "      <td>d1898490</td>\n",
       "      <td>1</td>\n",
       "      <td>4.5</td>\n",
       "      <td>0</td>\n",
       "      <td>0</td>\n",
       "      <td>0</td>\n",
       "    </tr>\n",
       "    <tr>\n",
       "      <th>17521</th>\n",
       "      <td>id_227</td>\n",
       "      <td>Warsaw</td>\n",
       "      <td>['Polish', 'European', 'Central European', 'Ea...</td>\n",
       "      <td>228.0</td>\n",
       "      <td>$$ - $$$</td>\n",
       "      <td>95.0</td>\n",
       "      <td>[['Great place', 'A lovely warm place and good...</td>\n",
       "      <td>/Restaurant_Review-g274856-d2410632-Reviews-Fe...</td>\n",
       "      <td>d2410632</td>\n",
       "      <td>1</td>\n",
       "      <td>4.0</td>\n",
       "      <td>0</td>\n",
       "      <td>0</td>\n",
       "      <td>0</td>\n",
       "    </tr>\n",
       "  </tbody>\n",
       "</table>\n",
       "</div>"
      ],
      "text/plain": [
       "      Restaurant_id        City  \\\n",
       "227          id_227      Madrid   \n",
       "11065        id_227  Luxembourg   \n",
       "14727        id_227  Bratislava   \n",
       "16237        id_227      Athens   \n",
       "17521        id_227      Warsaw   \n",
       "\n",
       "                                           Cuisine_Style  Ranking Price_Range  \\\n",
       "227                                             European   3208.0    $$ - $$$   \n",
       "11065  ['Lebanese', 'Mediterranean', 'Middle Eastern'...    228.0    $$ - $$$   \n",
       "14727  ['Healthy', 'European', 'Mediterranean', 'Vege...    228.0    $$ - $$$   \n",
       "16237             ['European', 'Greek', 'Mediterranean']    228.0    $$ - $$$   \n",
       "17521  ['Polish', 'European', 'Central European', 'Ea...    228.0    $$ - $$$   \n",
       "\n",
       "       Number_of_Reviews                                            Reviews  \\\n",
       "227                 23.0  [['40th', 'The Center of Spain'], ['07/23/2017...   \n",
       "11065               21.0  [['Nice little Lebanese restaurant', 'Great fo...   \n",
       "14727              122.0  [['Great fish (African sharptooth catfish)', '...   \n",
       "16237              220.0  [['Spectacular view and food', 'Great view'], ...   \n",
       "17521               95.0  [['Great place', 'A lovely warm place and good...   \n",
       "\n",
       "                                                  URL_TA      ID_TA  sample  \\\n",
       "227    /Restaurant_Review-g187514-d10040653-Reviews-P...  d10040653       0   \n",
       "11065  /Restaurant_Review-g190356-d10275783-Reviews-K...  d10275783       1   \n",
       "14727  /Restaurant_Review-g274924-d4009959-Reviews-Me...   d4009959       1   \n",
       "16237  /Restaurant_Review-g189400-d1898490-Reviews-Ol...   d1898490       1   \n",
       "17521  /Restaurant_Review-g274856-d2410632-Reviews-Fe...   d2410632       1   \n",
       "\n",
       "       Rating  Number_of_Reviews_isNAN  Cuisine_Style_isNAN  Price_Range_isNAN  \n",
       "227       0.0                        0                    1                  1  \n",
       "11065     4.0                        0                    0                  0  \n",
       "14727     4.0                        0                    0                  0  \n",
       "16237     4.5                        0                    0                  0  \n",
       "17521     4.0                        0                    0                  0  "
      ]
     },
     "execution_count": 30,
     "metadata": {},
     "output_type": "execute_result"
    }
   ],
   "source": [
    "# пропусков нет, значения повторяются, посмотрим какие данные у нас находятся под одним ID\n",
    "data[data.Restaurant_id == 'id_227'].head(5)"
   ]
  },
  {
   "cell_type": "code",
   "execution_count": 31,
   "metadata": {
    "execution": {
     "iopub.execute_input": "2021-06-09T10:37:55.375105Z",
     "iopub.status.busy": "2021-06-09T10:37:55.374727Z",
     "iopub.status.idle": "2021-06-09T10:37:55.434396Z",
     "shell.execute_reply": "2021-06-09T10:37:55.433367Z",
     "shell.execute_reply.started": "2021-06-09T10:37:55.374928Z"
    }
   },
   "outputs": [],
   "source": [
    "# с признаком Restaurant_id не придумал что делать,\n",
    "# из признака Restaurant_id оставил числовую часть\n",
    "data['Restaurant_id_Code'] = data['Restaurant_id'].apply(lambda x: int(x[3:]))"
   ]
  },
  {
   "cell_type": "markdown",
   "metadata": {},
   "source": [
    "# Поработаем с признаком City, добавим по нему новые признаки"
   ]
  },
  {
   "cell_type": "code",
   "execution_count": 32,
   "metadata": {
    "execution": {
     "iopub.execute_input": "2021-06-09T10:37:55.436334Z",
     "iopub.status.busy": "2021-06-09T10:37:55.435973Z",
     "iopub.status.idle": "2021-06-09T10:37:55.487497Z",
     "shell.execute_reply": "2021-06-09T10:37:55.486789Z",
     "shell.execute_reply.started": "2021-06-09T10:37:55.436264Z"
    }
   },
   "outputs": [],
   "source": [
    "# Введём признак, является ли город столицей\n",
    "capital = ['Amsterdam', 'Athens', 'Berlin', 'Bratislava', 'Brussels', 'Budapest', 'Copenhagen', 'Dublin', 'Edinburgh', 'Helsinki',\n",
    "           'Lisbon', 'Ljubljana', 'London', 'Luxembourg', 'Madrid', 'Oslo', 'Paris', 'Prague', 'Rome', 'Stockholm', 'Vienna', 'Warsaw']\n",
    "data['Capital'] = data['City'].apply(lambda x: 1 if x in (capital) else 0)"
   ]
  },
  {
   "cell_type": "code",
   "execution_count": 33,
   "metadata": {
    "execution": {
     "iopub.execute_input": "2021-06-09T10:37:55.488865Z",
     "iopub.status.busy": "2021-06-09T10:37:55.488489Z",
     "iopub.status.idle": "2021-06-09T10:37:55.520595Z",
     "shell.execute_reply": "2021-06-09T10:37:55.519846Z",
     "shell.execute_reply.started": "2021-06-09T10:37:55.488826Z"
    }
   },
   "outputs": [],
   "source": [
    "# Признак Capital положительно влияет на оценку обучаемости нашей модели если воспользоваться One-Hot Encoding\n",
    "data = pd.get_dummies(data, columns=['Capital'], dummy_na=False)"
   ]
  },
  {
   "cell_type": "code",
   "execution_count": 34,
   "metadata": {
    "execution": {
     "iopub.execute_input": "2021-06-09T10:37:55.529671Z",
     "iopub.status.busy": "2021-06-09T10:37:55.529229Z",
     "iopub.status.idle": "2021-06-09T10:37:55.546547Z",
     "shell.execute_reply": "2021-06-09T10:37:55.545817Z",
     "shell.execute_reply.started": "2021-06-09T10:37:55.529614Z"
    }
   },
   "outputs": [],
   "source": [
    "# Добавим признак принадлежности к стране\n",
    "city_country = {\n",
    "    'London': 'United Kingdom ',\n",
    "    'Paris': 'France ',\n",
    "    'Madrid': 'Spain ',\n",
    "    'Barcelona': 'Spain ',\n",
    "    'Berlin': 'Germany ',\n",
    "    'Milan': 'Italy ',\n",
    "    'Rome': 'Italy ',\n",
    "    'Prague': 'Czech Republic ',\n",
    "    'Lisbon': 'Portugal ',\n",
    "    'Vienna': 'Austria ',\n",
    "    'Amsterdam': 'Netherlands ',\n",
    "    'Brussels': 'Belgium ',\n",
    "    'Hamburg': 'Germany ',\n",
    "    'Munich': 'Germany ',\n",
    "    'Lyon': 'France ',\n",
    "    'Stockholm': 'Sweden ',\n",
    "    'Budapest': 'Hungary ',\n",
    "    'Warsaw': 'Poland ',\n",
    "    'Dublin': 'Ireland ',\n",
    "    'Copenhagen': 'Denmark ',\n",
    "    'Athens': 'Greece ',\n",
    "    'Edinburgh': 'Schotland ',\n",
    "    'Zurich': 'Switzerland ',\n",
    "    'Oporto': 'Portugal ',\n",
    "    'Geneva': 'Switzerland ',\n",
    "    'Krakow': 'Poland ',\n",
    "    'Oslo': 'Norway ',\n",
    "    'Helsinki': 'Finland ',\n",
    "    'Bratislava': 'Slovakia ',\n",
    "    'Luxembourg': 'Luxembourg ',\n",
    "    'Ljubljana': 'Slovenia '\n",
    "}\n",
    "\n",
    "data['Country'] = data['City'].map(city_country)"
   ]
  },
  {
   "cell_type": "code",
   "execution_count": 35,
   "metadata": {
    "execution": {
     "iopub.execute_input": "2021-06-09T10:37:55.548288Z",
     "iopub.status.busy": "2021-06-09T10:37:55.547946Z",
     "iopub.status.idle": "2021-06-09T10:37:55.575619Z",
     "shell.execute_reply": "2021-06-09T10:37:55.574959Z",
     "shell.execute_reply.started": "2021-06-09T10:37:55.548252Z"
    }
   },
   "outputs": [],
   "source": [
    "# Для признака Country воспользуемся LabelEncoder\n",
    "# пробовал One-Hot Encoding - оценка хуже\n",
    "countries_le = LabelEncoder()\n",
    "countries_le.fit(data['Country'])\n",
    "data['Country_Code'] = countries_le.transform(data['Country'])"
   ]
  },
  {
   "cell_type": "code",
   "execution_count": 36,
   "metadata": {
    "execution": {
     "iopub.execute_input": "2021-06-09T10:37:55.576961Z",
     "iopub.status.busy": "2021-06-09T10:37:55.576622Z",
     "iopub.status.idle": "2021-06-09T10:37:56.685040Z",
     "shell.execute_reply": "2021-06-09T10:37:56.684346Z",
     "shell.execute_reply.started": "2021-06-09T10:37:55.576925Z"
    }
   },
   "outputs": [],
   "source": [
    "# Добавим численность населения агломерации из Wiki\n",
    "city_population = {'London': 10979, 'Paris': 11020, 'Madrid': 6026, 'Barcelona': 4588,\n",
    "                   'Berlin': 6177, 'Milan': 4907, 'Rome': 3900, 'Prague': 1308,\n",
    "                   'Lisbon': 2942, 'Vienna': 2300, 'Amsterdam': 2400, 'Brussels': 1831,\n",
    "                   'Hamburg': 1841, 'Munich': 1471, 'Lyon': 1748, 'Stockholm': 2352,\n",
    "                   'Budapest': 2965, 'Warsaw': 3100, 'Dublin': 1347,\n",
    "                   'Copenhagen': 1308, 'Athens': 3168, 'Edinburgh': 513,\n",
    "                   'Zurich': 1334, 'Oporto': 1313, 'Geneva': 496, 'Krakow': 1200,\n",
    "                   'Oslo': 1558, 'Helsinki': 1299, 'Bratislava': 700,\n",
    "                   'Luxembourg': 626, 'Ljubljana': 508}\n",
    "data['Сity_population'] = data.apply(\n",
    "    lambda row: city_population[row['City']], axis=1)"
   ]
  },
  {
   "cell_type": "code",
   "execution_count": 37,
   "metadata": {
    "execution": {
     "iopub.execute_input": "2021-06-09T10:37:56.686325Z",
     "iopub.status.busy": "2021-06-09T10:37:56.686007Z",
     "iopub.status.idle": "2021-06-09T10:37:56.701321Z",
     "shell.execute_reply": "2021-06-09T10:37:56.700604Z",
     "shell.execute_reply.started": "2021-06-09T10:37:56.686289Z"
    }
   },
   "outputs": [],
   "source": [
    "# Добавим численность населения страны из датасета\n",
    "data['Country_population'] = data['Country'].map(data_countries.groupby('Country')['Population'].sum())\n",
    "# Добавим численность населения Шотландии, потому что в загруженном датасете нет информации по этой стране\n",
    "data['Country_population'] = data['Country_population'].fillna(5454000)"
   ]
  },
  {
   "cell_type": "code",
   "execution_count": 38,
   "metadata": {
    "execution": {
     "iopub.execute_input": "2021-06-09T10:37:56.702792Z",
     "iopub.status.busy": "2021-06-09T10:37:56.702405Z",
     "iopub.status.idle": "2021-06-09T10:37:56.785149Z",
     "shell.execute_reply": "2021-06-09T10:37:56.784173Z",
     "shell.execute_reply.started": "2021-06-09T10:37:56.702752Z"
    }
   },
   "outputs": [],
   "source": [
    "#Добавим столбец с разделением городов по частям Европы\n",
    "west_europe = ['London','Berlin','Paris','Zurich','Vienna','Amsterdam','Brussels','Humburg',\n",
    "               'Munich','Lyon','Dublin','Edinburgh','Geneva','Luxembourg']\n",
    "north_europe = ['Copenhagen','Helsinki','Oslo','Stockholm']\n",
    "east_europe = ['Prague','Bratislava','Budapest','Krakow','Warsaw']\n",
    "south_europe = ['Barcelona','Ljubljana','Madrid','Milan','Oporto','Rome','Athens','Lisbon']\n",
    "\n",
    "def part_europe(x):\n",
    "    if x in west_europe:\n",
    "        return 0\n",
    "    elif x in south_europe:\n",
    "        return 1\n",
    "    elif x in north_europe:\n",
    "        return 2\n",
    "    else:\n",
    "        return 3\n",
    "    \n",
    "data['europe_part'] = data['City'].apply(part_europe)\n",
    "#Попробуем one-hot encoding для этого признака (модель работает лучше)\n",
    "data = pd.get_dummies(data, columns=['europe_part'], dummy_na=False)"
   ]
  },
  {
   "cell_type": "code",
   "execution_count": 39,
   "metadata": {
    "execution": {
     "iopub.execute_input": "2021-06-09T10:37:56.786785Z",
     "iopub.status.busy": "2021-06-09T10:37:56.786524Z",
     "iopub.status.idle": "2021-06-09T10:37:56.807808Z",
     "shell.execute_reply": "2021-06-09T10:37:56.806608Z",
     "shell.execute_reply.started": "2021-06-09T10:37:56.786741Z"
    }
   },
   "outputs": [
    {
     "data": {
      "text/plain": [
       "0        1539.42\n",
       "1        1211.00\n",
       "2        1524.76\n",
       "3        1598.69\n",
       "4         580.00\n",
       "          ...   \n",
       "49995     700.00\n",
       "49996    1539.42\n",
       "49997    2000.00\n",
       "49998     610.79\n",
       "49999     700.00\n",
       "Name: Country_minsalary, Length: 50000, dtype: float64"
      ]
     },
     "execution_count": 39,
     "metadata": {},
     "output_type": "execute_result"
    }
   ],
   "source": [
    "#Теперь добавим минимальные зарплаты в зависимости от страны в евро\n",
    "country_salary = {\n",
    "    'France ': 1539.42, 'Finland ': 1211, 'Schotland ': 1524.76, 'United Kingdom ': 1598.69, 'Slovakia ': 580, \n",
    "    'Portugal ': 740.83, 'Hungary ': 487.10, 'Sweden ': 2000, 'Italy ': 700,\n",
    "    'Germany ': 1584, 'Czech Republic ': 574.62, 'Austria ': 1360,'Ireland ': 1656.2, 'Spain ': 1050,\n",
    "    'Belgium ': 1593.81, 'Norway ': 2751.50, 'Netherlands ': 1635.6, 'Greece ': 758.33,\n",
    "    'Poland ': 610.79, 'Denmark ':  2476, 'Luxembourg ': 2141.99, 'Switzerland ': 2538.59, 'Slovenia ': 940.58\n",
    "}\n",
    "data['Country_minsalary'] = data['Country'].map(country_salary)\n",
    "data['Country_minsalary']"
   ]
  },
  {
   "cell_type": "code",
   "execution_count": 40,
   "metadata": {
    "execution": {
     "iopub.execute_input": "2021-06-09T10:37:56.809533Z",
     "iopub.status.busy": "2021-06-09T10:37:56.809259Z",
     "iopub.status.idle": "2021-06-09T10:37:56.827585Z",
     "shell.execute_reply": "2021-06-09T10:37:56.826595Z",
     "shell.execute_reply.started": "2021-06-09T10:37:56.809488Z"
    }
   },
   "outputs": [],
   "source": [
    "# Добавим признак по количеству ресторанов в городе\n",
    "# Создадим справочник с указанием количества ресторанов для каждого города, присутствующего в датасете\n",
    "restaurant_stat_data = {\n",
    "    'Paris': 17593,\n",
    "    'Stockholm': 3131,\n",
    "    'London': 22366,\n",
    "    'Berlin': 8110,\n",
    "    'Munich': 3367,\n",
    "    'Oporto': 2060,\n",
    "    'Milan': 7940,\n",
    "    'Bratislava': 1331,\n",
    "    'Vienna': 4387,\n",
    "    'Rome': 12086,\n",
    "    'Barcelona': 10086,\n",
    "    'Madrid': 11562,\n",
    "    'Dublin': 2706,\n",
    "    'Brussels': 3703,\n",
    "    'Zurich': 1901,\n",
    "    'Warsaw': 3210,\n",
    "    'Budapest': 3445,\n",
    "    'Copenhagen': 2637,\n",
    "    'Amsterdam': 4189,\n",
    "    'Lyon': 2833,\n",
    "    'Hamburg': 3501,\n",
    "    'Lisbon': 4985,\n",
    "    'Prague': 5850,\n",
    "    'Oslo': 1441,\n",
    "    'Helsinki': 1661,\n",
    "    'Edinburgh': 2248,\n",
    "    'Geneva': 1753,\n",
    "    'Ljubljana': 647,\n",
    "    'Athens': 2814,\n",
    "    'Luxembourg': 759,\n",
    "    'Krakow': 1832\n",
    "}\n",
    "data['Restaurant_count'] = data['City'].map(restaurant_stat_data)"
   ]
  },
  {
   "cell_type": "code",
   "execution_count": 41,
   "metadata": {
    "execution": {
     "iopub.execute_input": "2021-06-09T10:37:56.829145Z",
     "iopub.status.busy": "2021-06-09T10:37:56.828917Z",
     "iopub.status.idle": "2021-06-09T10:37:56.851598Z",
     "shell.execute_reply": "2021-06-09T10:37:56.850858Z",
     "shell.execute_reply.started": "2021-06-09T10:37:56.829110Z"
    }
   },
   "outputs": [],
   "source": [
    "# Добавим признак - количество ресторанов на квадратный метр города\n",
    "# для этого сначала создадим справочник для площадей городов\n",
    "city_square = {\n",
    "    'Paris': 105.4,\n",
    "    'Stockholm': 188,\n",
    "    'London': 1572,\n",
    "    'Berlin': 891.8,\n",
    "    'Munich': 310.7,\n",
    "    'Oporto': 41.42,\n",
    "    'Milan': 181.8,\n",
    "    'Bratislava': 367.6,\n",
    "    'Vienna': 414.6,\n",
    "    'Rome': 1285,\n",
    "    'Barcelona': 101.9,\n",
    "    'Madrid': 604.3,\n",
    "    'Dublin': 117.8,\n",
    "    'Brussels': 32.61,\n",
    "    'Zurich': 87.88,\n",
    "    'Warsaw': 517.2,\n",
    "    'Budapest': 525.2,\n",
    "    'Copenhagen': 88.25,\n",
    "    'Amsterdam': 219.3,\n",
    "    'Lyon': 47.87,\n",
    "    'Hamburg': 755.2,\n",
    "    'Lisbon': 100,\n",
    "    'Prague': 496,\n",
    "    'Oslo': 454,\n",
    "    'Helsinki': 213.8,\n",
    "    'Edinburgh': 264,\n",
    "    'Geneva': 15.93,\n",
    "    'Ljubljana': 163.8,\n",
    "    'Athens': 38.96,\n",
    "    'Luxembourg': 51.46,\n",
    "    'Krakow': 327\n",
    "}\n",
    "data['City_square'] = data['City'].map(city_square)"
   ]
  },
  {
   "cell_type": "code",
   "execution_count": 42,
   "metadata": {
    "execution": {
     "iopub.execute_input": "2021-06-09T10:37:56.852966Z",
     "iopub.status.busy": "2021-06-09T10:37:56.852602Z",
     "iopub.status.idle": "2021-06-09T10:37:56.865213Z",
     "shell.execute_reply": "2021-06-09T10:37:56.864483Z",
     "shell.execute_reply.started": "2021-06-09T10:37:56.852927Z"
    }
   },
   "outputs": [],
   "source": [
    "# Добавим признак по количеству ресторанов на км в городе\n",
    "data['Rests_per_km'] = data['Restaurant_count'] / data['City_square']"
   ]
  },
  {
   "cell_type": "code",
   "execution_count": 43,
   "metadata": {
    "execution": {
     "iopub.execute_input": "2021-06-09T10:37:56.867136Z",
     "iopub.status.busy": "2021-06-09T10:37:56.866776Z",
     "iopub.status.idle": "2021-06-09T10:37:56.987463Z",
     "shell.execute_reply": "2021-06-09T10:37:56.986757Z",
     "shell.execute_reply.started": "2021-06-09T10:37:56.866986Z"
    }
   },
   "outputs": [],
   "source": [
    "# добавим признак с количеством ресторанов с различными рейтингами от 1 до 5\n",
    "# разделим рестораны на категории 1 - [1:3), 2 - [3:4), 3 - [4:5]\n",
    "count_rat1_rests = {}\n",
    "for i in data['City'][(data['Rating'] >= 1) & (data['Rating'] < 3)].value_counts().index:\n",
    "    count_rat1_rests[i] = data['City'][(data['Rating'] >= 1) & (data['Rating'] < 3)].value_counts()[i]\n",
    "\n",
    "data['rests_rating1_count'] = data['City'].map(count_rat1_rests)"
   ]
  },
  {
   "cell_type": "code",
   "execution_count": 44,
   "metadata": {
    "execution": {
     "iopub.execute_input": "2021-06-09T10:37:56.988825Z",
     "iopub.status.busy": "2021-06-09T10:37:56.988553Z",
     "iopub.status.idle": "2021-06-09T10:37:57.179110Z",
     "shell.execute_reply": "2021-06-09T10:37:57.178246Z",
     "shell.execute_reply.started": "2021-06-09T10:37:56.988780Z"
    }
   },
   "outputs": [],
   "source": [
    "# 2 категория\n",
    "count_rat2_rests = {}\n",
    "for i in data['City'][(data['Rating'] >= 3) & (data['Rating'] < 4)].value_counts().index:\n",
    "    count_rat2_rests[i] = data['City'][(data['Rating'] >= 3) & (data['Rating'] < 4)].value_counts()[i]\n",
    "\n",
    "data['rests_rating2_count'] = data['City'].map(count_rat2_rests)"
   ]
  },
  {
   "cell_type": "code",
   "execution_count": 45,
   "metadata": {
    "execution": {
     "iopub.execute_input": "2021-06-09T10:37:57.180563Z",
     "iopub.status.busy": "2021-06-09T10:37:57.180324Z",
     "iopub.status.idle": "2021-06-09T10:37:57.474016Z",
     "shell.execute_reply": "2021-06-09T10:37:57.473122Z",
     "shell.execute_reply.started": "2021-06-09T10:37:57.180521Z"
    }
   },
   "outputs": [],
   "source": [
    "# 3 категория\n",
    "count_rat3_rests = {}\n",
    "for i in data['City'][data['Rating'] >= 4].value_counts().index:\n",
    "    count_rat3_rests[i] = data['City'][data['Rating'] >= 4].value_counts()[i]\n",
    "\n",
    "data['rests_rating3_count'] = data['City'].map(count_rat3_rests)"
   ]
  },
  {
   "cell_type": "code",
   "execution_count": 46,
   "metadata": {
    "execution": {
     "iopub.execute_input": "2021-06-09T10:37:57.475684Z",
     "iopub.status.busy": "2021-06-09T10:37:57.475397Z",
     "iopub.status.idle": "2021-06-09T10:37:57.483875Z",
     "shell.execute_reply": "2021-06-09T10:37:57.482980Z",
     "shell.execute_reply.started": "2021-06-09T10:37:57.475623Z"
    }
   },
   "outputs": [],
   "source": [
    "# Заменим пропуски в 3 категориях на ноль\n",
    "data['rests_rating1_count'] = data['rests_rating1_count'].fillna(0)\n",
    "data['rests_rating2_count'] = data['rests_rating2_count'].fillna(0)\n",
    "data['rests_rating3_count'] = data['rests_rating3_count'].fillna(0)"
   ]
  },
  {
   "cell_type": "markdown",
   "metadata": {},
   "source": [
    "#### Возьмем следующий признак Cuisine_Style"
   ]
  },
  {
   "cell_type": "code",
   "execution_count": 47,
   "metadata": {
    "execution": {
     "iopub.execute_input": "2021-06-09T10:37:57.485543Z",
     "iopub.status.busy": "2021-06-09T10:37:57.485132Z",
     "iopub.status.idle": "2021-06-09T10:37:57.611462Z",
     "shell.execute_reply": "2021-06-09T10:37:57.610575Z",
     "shell.execute_reply.started": "2021-06-09T10:37:57.485376Z"
    }
   },
   "outputs": [],
   "source": [
    "# теперь поработаем с кухнями\n",
    "# сделаем, чтобы читалось как список\n",
    "data['Cuisine_Style'] = data['Cuisine_Style'].str[2:-2].str.split(\"', '\")"
   ]
  },
  {
   "cell_type": "code",
   "execution_count": 48,
   "metadata": {
    "execution": {
     "iopub.execute_input": "2021-06-09T10:37:57.613520Z",
     "iopub.status.busy": "2021-06-09T10:37:57.613227Z",
     "iopub.status.idle": "2021-06-09T10:37:57.654984Z",
     "shell.execute_reply": "2021-06-09T10:37:57.654174Z",
     "shell.execute_reply.started": "2021-06-09T10:37:57.613466Z"
    }
   },
   "outputs": [],
   "source": [
    "# сгенерируем новый признак кол-во кухонь в ресторане\n",
    "data['Cuisine_Style_count'] = data['Cuisine_Style'].str.len()"
   ]
  },
  {
   "cell_type": "code",
   "execution_count": 49,
   "metadata": {
    "execution": {
     "iopub.execute_input": "2021-06-09T10:37:57.656831Z",
     "iopub.status.busy": "2021-06-09T10:37:57.656551Z",
     "iopub.status.idle": "2021-06-09T10:37:57.663057Z",
     "shell.execute_reply": "2021-06-09T10:37:57.662257Z",
     "shell.execute_reply.started": "2021-06-09T10:37:57.656781Z"
    }
   },
   "outputs": [
    {
     "data": {
      "text/plain": [
       "2.62532"
      ]
     },
     "execution_count": 49,
     "metadata": {},
     "output_type": "execute_result"
    }
   ],
   "source": [
    "# среднее количество кухонь предлагаемых в одном ресторане\n",
    "data['Cuisine_Style_count'].mean()"
   ]
  },
  {
   "cell_type": "markdown",
   "metadata": {},
   "source": [
    "#### Добавим признак с наличием некоторых блюд"
   ]
  },
  {
   "cell_type": "code",
   "execution_count": 50,
   "metadata": {
    "execution": {
     "iopub.execute_input": "2021-06-09T10:37:57.664758Z",
     "iopub.status.busy": "2021-06-09T10:37:57.664474Z",
     "iopub.status.idle": "2021-06-09T10:37:57.681479Z",
     "shell.execute_reply": "2021-06-09T10:37:57.680471Z",
     "shell.execute_reply.started": "2021-06-09T10:37:57.664705Z"
    }
   },
   "outputs": [],
   "source": [
    "# Создадим список кухонб датасета и выберем из них топ-10\n",
    "cuis_list = []\n",
    "for i in data['Cuisine_Style'][(data['Rating'] < 3.5) & (data['Rating'] > 4.5)]:\n",
    "    for u in i:\n",
    "        cuis_list.append(u)\n",
    "        \n",
    "top_cuisines = pd.Series(cuis_list).value_counts()[:10]"
   ]
  },
  {
   "cell_type": "code",
   "execution_count": 51,
   "metadata": {
    "execution": {
     "iopub.execute_input": "2021-06-09T10:37:57.682844Z",
     "iopub.status.busy": "2021-06-09T10:37:57.682540Z",
     "iopub.status.idle": "2021-06-09T10:37:57.687811Z",
     "shell.execute_reply": "2021-06-09T10:37:57.687001Z",
     "shell.execute_reply.started": "2021-06-09T10:37:57.682795Z"
    }
   },
   "outputs": [],
   "source": [
    "# Применим к нашему датасету топ-10 и добавим признаких с информацией о наличии таких кухонб в ресторане\n",
    "for cuisine_style in top_cuisines.index:\n",
    "    data[cuisine_style] = data['Cuisine_Style'].apply(lambda x: 1 if cuisine_style in x else 0)"
   ]
  },
  {
   "cell_type": "code",
   "execution_count": 52,
   "metadata": {
    "execution": {
     "iopub.execute_input": "2021-06-09T10:37:57.689357Z",
     "iopub.status.busy": "2021-06-09T10:37:57.689088Z",
     "iopub.status.idle": "2021-06-09T10:37:57.727042Z",
     "shell.execute_reply": "2021-06-09T10:37:57.725982Z",
     "shell.execute_reply.started": "2021-06-09T10:37:57.689316Z"
    }
   },
   "outputs": [],
   "source": [
    "# Добавим признак к информацией по среднему количеству кухонь в ресторанах в городе\n",
    "data['Cuisines_in_City'] = data['City'].map(data.groupby('City')['Cuisine_Style_count'].mean())"
   ]
  },
  {
   "cell_type": "markdown",
   "metadata": {},
   "source": [
    "Все остальные созданные признаки Cuisine style"
   ]
  },
  {
   "cell_type": "markdown",
   "metadata": {},
   "source": [
    "#### Возьмем следующий признак \"Price Range\"."
   ]
  },
  {
   "cell_type": "code",
   "execution_count": 53,
   "metadata": {
    "execution": {
     "iopub.execute_input": "2021-06-09T10:37:57.728599Z",
     "iopub.status.busy": "2021-06-09T10:37:57.728349Z",
     "iopub.status.idle": "2021-06-09T10:37:57.751865Z",
     "shell.execute_reply": "2021-06-09T10:37:57.750725Z",
     "shell.execute_reply.started": "2021-06-09T10:37:57.728563Z"
    }
   },
   "outputs": [
    {
     "data": {
      "text/plain": [
       "$$ - $$$    40402\n",
       "$            7816\n",
       "$$$$         1782\n",
       "Name: Price_Range, dtype: int64"
      ]
     },
     "execution_count": 53,
     "metadata": {},
     "output_type": "execute_result"
    }
   ],
   "source": [
    "data['Price_Range'].value_counts()"
   ]
  },
  {
   "cell_type": "markdown",
   "metadata": {},
   "source": [
    "По описанию 'Price Range' это - Цены в ресторане.  \n",
    "Их можно поставить по возрастанию (значит это не категориальный признак). А это значит, что их можно заменить последовательными числами, например 1,2,3  \n",
    "*Попробуйте сделать обработку этого признака уже самостоятельно!*"
   ]
  },
  {
   "cell_type": "code",
   "execution_count": 54,
   "metadata": {
    "execution": {
     "iopub.execute_input": "2021-06-09T10:37:57.753192Z",
     "iopub.status.busy": "2021-06-09T10:37:57.752898Z",
     "iopub.status.idle": "2021-06-09T10:37:57.801214Z",
     "shell.execute_reply": "2021-06-09T10:37:57.800140Z",
     "shell.execute_reply.started": "2021-06-09T10:37:57.753142Z"
    }
   },
   "outputs": [],
   "source": [
    "# Ваша обработка 'Price Range'\n",
    "# создадим словарь и подставим значения из него\n",
    "price_range_dict = {'$': 0, '$$ - $$$': 1, '$$$$': 2}\n",
    "data = data.replace({'Price_Range': price_range_dict})"
   ]
  },
  {
   "cell_type": "code",
   "execution_count": 55,
   "metadata": {
    "execution": {
     "iopub.execute_input": "2021-06-09T10:37:57.802784Z",
     "iopub.status.busy": "2021-06-09T10:37:57.802490Z",
     "iopub.status.idle": "2021-06-09T10:37:57.821495Z",
     "shell.execute_reply": "2021-06-09T10:37:57.820635Z",
     "shell.execute_reply.started": "2021-06-09T10:37:57.802734Z"
    }
   },
   "outputs": [],
   "source": [
    "# Средняя цена в городе\n",
    "\n",
    "data['Price_in_City'] = data['City'].map(data.groupby('City')['Price_Range'].mean())"
   ]
  },
  {
   "cell_type": "code",
   "execution_count": 56,
   "metadata": {
    "execution": {
     "iopub.execute_input": "2021-06-09T10:37:57.823377Z",
     "iopub.status.busy": "2021-06-09T10:37:57.823131Z",
     "iopub.status.idle": "2021-06-09T10:37:57.857594Z",
     "shell.execute_reply": "2021-06-09T10:37:57.856736Z",
     "shell.execute_reply.started": "2021-06-09T10:37:57.823335Z"
    }
   },
   "outputs": [],
   "source": [
    "# Оценка модели лучше, если закодировать признак с One-Hot Encoding\n",
    "data = pd.get_dummies(data, columns=['Price_Range'], dummy_na=False)"
   ]
  },
  {
   "cell_type": "markdown",
   "metadata": {},
   "source": [
    "#### Перейдем к признаку Ranking"
   ]
  },
  {
   "cell_type": "code",
   "execution_count": 57,
   "metadata": {
    "execution": {
     "iopub.execute_input": "2021-06-09T10:37:57.859081Z",
     "iopub.status.busy": "2021-06-09T10:37:57.858817Z",
     "iopub.status.idle": "2021-06-09T10:37:57.890247Z",
     "shell.execute_reply": "2021-06-09T10:37:57.889417Z",
     "shell.execute_reply.started": "2021-06-09T10:37:57.859033Z"
    }
   },
   "outputs": [],
   "source": [
    "# Теперь подробно остановимся на признаке Ranking и попробуем выжать максимум\n",
    "# Пересчитаем относительно максимального значения в городе\n",
    "data['Ranking_city'] = data['Ranking'] / \\\n",
    "   data['City'].map(data.groupby(['City'])['Ranking'].max())"
   ]
  },
  {
   "cell_type": "code",
   "execution_count": 58,
   "metadata": {
    "execution": {
     "iopub.execute_input": "2021-06-09T10:37:57.891657Z",
     "iopub.status.busy": "2021-06-09T10:37:57.891452Z",
     "iopub.status.idle": "2021-06-09T10:38:02.401529Z",
     "shell.execute_reply": "2021-06-09T10:38:02.400132Z",
     "shell.execute_reply.started": "2021-06-09T10:37:57.891626Z"
    }
   },
   "outputs": [
    {
     "data": {
      "image/png": "[encoded data removed]",
      "text/plain": [
       "<Figure size 432x288 with 1 Axes>"
      ]
     },
     "metadata": {
      "needs_background": "light"
     },
     "output_type": "display_data"
    }
   ],
   "source": [
    "# Теперь попробуем нормализовать и посмотрим визуально\n",
    "data['Ranking_normalized'] = data.groupby(\n",
    "    'City')['Ranking'].transform(lambda x: (x-x.mean())/x.std())\n",
    "\n",
    "for x in (data['City'].value_counts())[0:10].index:\n",
    "    data['Ranking_normalized'][data['City'] == x].hist(bins=100)\n",
    "plt.show()"
   ]
  },
  {
   "cell_type": "code",
   "execution_count": 59,
   "metadata": {
    "execution": {
     "iopub.execute_input": "2021-06-09T10:38:02.403861Z",
     "iopub.status.busy": "2021-06-09T10:38:02.403264Z",
     "iopub.status.idle": "2021-06-09T10:38:02.412601Z",
     "shell.execute_reply": "2021-06-09T10:38:02.411155Z",
     "shell.execute_reply.started": "2021-06-09T10:38:02.403586Z"
    }
   },
   "outputs": [],
   "source": [
    "# Теперь относительно количества ресторанов\n",
    "data['Ranking_Res'] = data['Ranking'] / data['Restaurant_count']"
   ]
  },
  {
   "cell_type": "code",
   "execution_count": 60,
   "metadata": {
    "execution": {
     "iopub.execute_input": "2021-06-09T10:38:02.415118Z",
     "iopub.status.busy": "2021-06-09T10:38:02.414520Z",
     "iopub.status.idle": "2021-06-09T10:38:04.956393Z",
     "shell.execute_reply": "2021-06-09T10:38:04.955612Z",
     "shell.execute_reply.started": "2021-06-09T10:38:02.414866Z"
    }
   },
   "outputs": [],
   "source": [
    "#Теперь попробуем сделать категории с помощью Ranking_avg: 0 - если больше среднего Ranking и 1 - если больше\n",
    "Ranking_avg = data.groupby(\n",
    "    'City')['Ranking'].transform(lambda x: x.mean())\n",
    "\n",
    "data['Ranking_cat'] = data['Ranking'].apply(lambda x: 1 if x <= Ranking_avg.loc[x] else 0)\n",
    "# Оценка модели лучше, если закодировать признак с One-Hot Encoding\n",
    "data = pd.get_dummies(data, columns=['Ranking_cat'], dummy_na=False)"
   ]
  },
  {
   "cell_type": "code",
   "execution_count": 61,
   "metadata": {
    "execution": {
     "iopub.execute_input": "2021-06-09T10:38:04.958125Z",
     "iopub.status.busy": "2021-06-09T10:38:04.957740Z",
     "iopub.status.idle": "2021-06-09T10:38:04.988429Z",
     "shell.execute_reply": "2021-06-09T10:38:04.987723Z",
     "shell.execute_reply.started": "2021-06-09T10:38:04.957939Z"
    }
   },
   "outputs": [],
   "source": [
    "# Добавим признак средний ранк по городу\n",
    "data['Rank_avg'] = data['City'].map(data.groupby('City')['Ranking'].mean())"
   ]
  },
  {
   "cell_type": "markdown",
   "metadata": {},
   "source": [
    "#### Переходим к признаку Number of Reviews"
   ]
  },
  {
   "cell_type": "code",
   "execution_count": 62,
   "metadata": {
    "execution": {
     "iopub.execute_input": "2021-06-09T10:38:04.990070Z",
     "iopub.status.busy": "2021-06-09T10:38:04.989667Z",
     "iopub.status.idle": "2021-06-09T10:38:05.000456Z",
     "shell.execute_reply": "2021-06-09T10:38:04.999562Z",
     "shell.execute_reply.started": "2021-06-09T10:38:04.989875Z"
    }
   },
   "outputs": [],
   "source": [
    "# Попробуем нормализовать признак Number_of_Reviews\n",
    "data['NoR_normalized'] = data.Number_of_Reviews.transform(lambda x: (x-x.mean())/x.std())"
   ]
  },
  {
   "cell_type": "code",
   "execution_count": 63,
   "metadata": {
    "execution": {
     "iopub.execute_input": "2021-06-09T10:38:05.002235Z",
     "iopub.status.busy": "2021-06-09T10:38:05.001775Z",
     "iopub.status.idle": "2021-06-09T10:38:05.011500Z",
     "shell.execute_reply": "2021-06-09T10:38:05.010500Z",
     "shell.execute_reply.started": "2021-06-09T10:38:05.001990Z"
    }
   },
   "outputs": [],
   "source": [
    "# добавим признак - кол-во отзывов пропорционально кол-ву жителей\n",
    "data['Number_of_Reviews_city'] = data['Number_of_Reviews']/data['Сity_population']"
   ]
  },
  {
   "cell_type": "code",
   "execution_count": 64,
   "metadata": {
    "execution": {
     "iopub.execute_input": "2021-06-09T10:38:05.013502Z",
     "iopub.status.busy": "2021-06-09T10:38:05.013052Z",
     "iopub.status.idle": "2021-06-09T10:38:05.037772Z",
     "shell.execute_reply": "2021-06-09T10:38:05.036966Z",
     "shell.execute_reply.started": "2021-06-09T10:38:05.013281Z"
    }
   },
   "outputs": [],
   "source": [
    "NoR_sum = data.groupby('City')['Number_of_Reviews'].sum()\n",
    "\n",
    "data['NoR_inCity'] = data['City'].map(NoR_sum) / data['Сity_population']"
   ]
  },
  {
   "cell_type": "markdown",
   "metadata": {
    "execution": {
     "iopub.execute_input": "2021-06-04T00:33:19.318401Z",
     "iopub.status.busy": "2021-06-04T00:33:19.31782Z",
     "iopub.status.idle": "2021-06-04T00:33:19.327807Z",
     "shell.execute_reply": "2021-06-04T00:33:19.326981Z",
     "shell.execute_reply.started": "2021-06-04T00:33:19.318324Z"
    }
   },
   "source": [
    "#### Теперь поработаем с самым засоренным признаком Reviews"
   ]
  },
  {
   "cell_type": "code",
   "execution_count": 65,
   "metadata": {
    "execution": {
     "iopub.execute_input": "2021-06-09T10:38:05.039551Z",
     "iopub.status.busy": "2021-06-09T10:38:05.039190Z",
     "iopub.status.idle": "2021-06-09T10:38:12.669202Z",
     "shell.execute_reply": "2021-06-09T10:38:12.668489Z",
     "shell.execute_reply.started": "2021-06-09T10:38:05.039485Z"
    }
   },
   "outputs": [],
   "source": [
    "def return_review_date(row, mode='newest'):\n",
    "    str_review = ast.literal_eval(str(row['Reviews']).replace('nan', '0'))\n",
    "    if str_review == [[], []]:\n",
    "        return 'NaN'\n",
    "    elif len(str_review[1]) == 1:\n",
    "        return(datetime.strptime(str_review[1][0], '%m/%d/%Y'))\n",
    "    else:\n",
    "        first_review_time = datetime.strptime(str_review[1][0], '%m/%d/%Y')\n",
    "        second_review_time = datetime.strptime(str_review[1][1], '%m/%d/%Y')\n",
    "        if mode == 'newest':\n",
    "            return max(second_review_time, first_review_time)\n",
    "        else:\n",
    "            return min(second_review_time, first_review_time)\n",
    "\n",
    "# заполним даты отзывов\n",
    "\n",
    "\n",
    "data['newest_review_date'] = data.apply(\n",
    "    lambda row: return_review_date(row, mode='newest'), axis=1)\n",
    "data['eldest_review_date'] = data.apply(\n",
    "    lambda row: return_review_date(row, mode='eldest'), axis=1)"
   ]
  },
  {
   "cell_type": "code",
   "execution_count": 66,
   "metadata": {
    "execution": {
     "iopub.execute_input": "2021-06-09T10:38:12.671312Z",
     "iopub.status.busy": "2021-06-09T10:38:12.670984Z",
     "iopub.status.idle": "2021-06-09T10:38:12.678194Z",
     "shell.execute_reply": "2021-06-09T10:38:12.677311Z",
     "shell.execute_reply.started": "2021-06-09T10:38:12.671248Z"
    }
   },
   "outputs": [],
   "source": [
    "# создадим признак для ресторанов, у которых нет отзывов\n",
    "data['is_nan_reviews'] = pd.isna(data['newest_review_date']).astype('float64')"
   ]
  },
  {
   "cell_type": "code",
   "execution_count": 67,
   "metadata": {
    "execution": {
     "iopub.execute_input": "2021-06-09T10:38:12.679598Z",
     "iopub.status.busy": "2021-06-09T10:38:12.679374Z",
     "iopub.status.idle": "2021-06-09T10:38:12.692602Z",
     "shell.execute_reply": "2021-06-09T10:38:12.691687Z",
     "shell.execute_reply.started": "2021-06-09T10:38:12.679559Z"
    }
   },
   "outputs": [
    {
     "data": {
      "text/plain": [
       "Timestamp('2018-02-26 00:00:00')"
      ]
     },
     "execution_count": 67,
     "metadata": {},
     "output_type": "execute_result"
    }
   ],
   "source": [
    "# посмотрим на дату самого свежего отзыва\n",
    "newest_review_date = data['newest_review_date'].max()\n",
    "newest_review_date"
   ]
  },
  {
   "cell_type": "code",
   "execution_count": 68,
   "metadata": {
    "execution": {
     "iopub.execute_input": "2021-06-09T10:38:12.694043Z",
     "iopub.status.busy": "2021-06-09T10:38:12.693787Z",
     "iopub.status.idle": "2021-06-09T10:38:12.708524Z",
     "shell.execute_reply": "2021-06-09T10:38:12.707646Z",
     "shell.execute_reply.started": "2021-06-09T10:38:12.694003Z"
    }
   },
   "outputs": [
    {
     "data": {
      "text/plain": [
       "Timestamp('2004-04-21 00:00:00')"
      ]
     },
     "execution_count": 68,
     "metadata": {},
     "output_type": "execute_result"
    }
   ],
   "source": [
    "# посмотрим на дату самого старого отзыва\n",
    "oldest_review_date = data['eldest_review_date'].min()\n",
    "oldest_review_date"
   ]
  },
  {
   "cell_type": "code",
   "execution_count": 69,
   "metadata": {
    "execution": {
     "iopub.execute_input": "2021-06-09T10:38:12.710328Z",
     "iopub.status.busy": "2021-06-09T10:38:12.710041Z",
     "iopub.status.idle": "2021-06-09T10:38:12.720466Z",
     "shell.execute_reply": "2021-06-09T10:38:12.719531Z",
     "shell.execute_reply.started": "2021-06-09T10:38:12.710282Z"
    }
   },
   "outputs": [],
   "source": [
    "# для ресторанов без отзывов добавим минимальную дату\n",
    "data['newest_review_date'].fillna(oldest_review_date, inplace=True)\n",
    "data['eldest_review_date'].fillna(oldest_review_date, inplace=True)"
   ]
  },
  {
   "cell_type": "code",
   "execution_count": 70,
   "metadata": {
    "execution": {
     "iopub.execute_input": "2021-06-09T10:38:12.721992Z",
     "iopub.status.busy": "2021-06-09T10:38:12.721743Z",
     "iopub.status.idle": "2021-06-09T10:38:12.741073Z",
     "shell.execute_reply": "2021-06-09T10:38:12.740365Z",
     "shell.execute_reply.started": "2021-06-09T10:38:12.721951Z"
    }
   },
   "outputs": [],
   "source": [
    "# Посчитаем разницу в днях между отзывами\n",
    "data['days_to_most_recent_review'] = (\n",
    "    newest_review_date - data['newest_review_date']).dt.days\n",
    "data['days_between_oldest_newest_reviews'] = (\n",
    "    data['newest_review_date'] - data['eldest_review_date']).dt.days"
   ]
  },
  {
   "cell_type": "code",
   "execution_count": 71,
   "metadata": {
    "execution": {
     "iopub.execute_input": "2021-06-09T10:38:12.742451Z",
     "iopub.status.busy": "2021-06-09T10:38:12.742102Z",
     "iopub.status.idle": "2021-06-09T10:38:30.174364Z",
     "shell.execute_reply": "2021-06-09T10:38:30.173618Z",
     "shell.execute_reply.started": "2021-06-09T10:38:12.742413Z"
    }
   },
   "outputs": [],
   "source": [
    "# Нормализуем разницу в днях между отзывами\n",
    "data['days_to_most_recent_review_norm'] = data['days_to_most_recent_review'].apply(\n",
    "        lambda x: (x-data['days_to_most_recent_review'].mean())/data['days_to_most_recent_review'].std())"
   ]
  },
  {
   "cell_type": "code",
   "execution_count": 72,
   "metadata": {
    "execution": {
     "iopub.execute_input": "2021-06-09T10:38:30.175789Z",
     "iopub.status.busy": "2021-06-09T10:38:30.175437Z",
     "iopub.status.idle": "2021-06-09T10:41:01.479785Z",
     "shell.execute_reply": "2021-06-09T10:41:01.479059Z",
     "shell.execute_reply.started": "2021-06-09T10:38:30.175751Z"
    }
   },
   "outputs": [],
   "source": [
    "# Создадим признаки с наличием хороших отзывов в признаке Reviews\n",
    "def good_words(data):\n",
    "    \n",
    "    check_words_1 = ['well', 'good', 'excellent', 'best', 'brilliant', 'incredible', 'amazing', 'a-mazing',\n",
    "                   'friendly', 'nice', 'ok', 'great', 'lovely', 'fantastic', 'enjoy', 'tasty', 'cool',\n",
    "                   'cozy','perfect','convenient','perfection','delicious', 'pretty good','delightful']\n",
    "\n",
    "    for word in check_words_1:\n",
    "        data[word] = 0\n",
    "        for i in range(len(data)):\n",
    "            if word in data['Reviews'][i].lower() and 'not' not in data['Reviews'][i].lower():\n",
    "                data.loc[i, word] = 1\n",
    "\n",
    "\n",
    "good_words(data)"
   ]
  },
  {
   "cell_type": "code",
   "execution_count": 73,
   "metadata": {
    "execution": {
     "iopub.execute_input": "2021-06-09T10:41:01.481127Z",
     "iopub.status.busy": "2021-06-09T10:41:01.480803Z",
     "iopub.status.idle": "2021-06-09T10:41:01.851736Z",
     "shell.execute_reply": "2021-06-09T10:41:01.850840Z",
     "shell.execute_reply.started": "2021-06-09T10:41:01.481091Z"
    }
   },
   "outputs": [],
   "source": [
    "# Создадим признак с количеством хороших слов в каждом Reviews\n",
    "check_words_1 = ['well', 'good', 'excellent', 'best', 'brilliant', 'incredible', 'amazing', 'a-mazing',\n",
    "                   'friendly', 'nice', 'ok', 'great', 'lovely', 'fantastic', 'enjoy', 'tasty', 'cool',\n",
    "                   'cozy','perfect','convenient','perfection','delicious', 'pretty good','delightful']\n",
    "\n",
    "def count_good_words(row):\n",
    "    for good_word in check_words_1:\n",
    "        cnt = 0\n",
    "        if good_word in row.lower() and 'not' not in row.lower():\n",
    "            cnt += 1\n",
    "\n",
    "data['good_words_count'] = data['Reviews'].apply(count_good_words)"
   ]
  },
  {
   "cell_type": "code",
   "execution_count": 74,
   "metadata": {
    "execution": {
     "iopub.execute_input": "2021-06-09T10:41:01.853134Z",
     "iopub.status.busy": "2021-06-09T10:41:01.852911Z",
     "iopub.status.idle": "2021-06-09T10:41:02.038211Z",
     "shell.execute_reply": "2021-06-09T10:41:02.037159Z",
     "shell.execute_reply.started": "2021-06-09T10:41:01.853095Z"
    }
   },
   "outputs": [],
   "source": [
    "# Создадим признак с количеством плохих слов в каждом Reviews\n",
    "check_words_2 = ['poor', 'bad', 'worse', 'but', 'no good', 'slow','awful','meh','slow',\n",
    "                  'terrible','expensive']\n",
    "\n",
    "def count_bad_words(row):\n",
    "    for bad_word in check_words_2:\n",
    "        cnt = 0\n",
    "        if bad_word in row.lower() and 'not' not in row.lower():\n",
    "            cnt += 1\n",
    "            \n",
    "data['bad_words_count'] = data['Reviews'].apply(count_bad_words)"
   ]
  },
  {
   "cell_type": "markdown",
   "metadata": {},
   "source": [
    "#### Добавим ID_TA_code"
   ]
  },
  {
   "cell_type": "code",
   "execution_count": 75,
   "metadata": {
    "execution": {
     "iopub.execute_input": "2021-06-09T10:41:02.039797Z",
     "iopub.status.busy": "2021-06-09T10:41:02.039510Z",
     "iopub.status.idle": "2021-06-09T10:41:02.093193Z",
     "shell.execute_reply": "2021-06-09T10:41:02.092532Z",
     "shell.execute_reply.started": "2021-06-09T10:41:02.039734Z"
    }
   },
   "outputs": [],
   "source": [
    "# из признака ID_TA оставил числовую часть, если убрать совсем оценка становится хуже\n",
    "data['ID_TA_Code'] = data['ID_TA'].apply(lambda x: int(x[1:]))"
   ]
  },
  {
   "cell_type": "code",
   "execution_count": 76,
   "metadata": {
    "execution": {
     "iopub.execute_input": "2021-06-09T10:41:02.095100Z",
     "iopub.status.busy": "2021-06-09T10:41:02.094582Z",
     "iopub.status.idle": "2021-06-09T10:41:02.113956Z",
     "shell.execute_reply": "2021-06-09T10:41:02.113267Z",
     "shell.execute_reply.started": "2021-06-09T10:41:02.095024Z"
    }
   },
   "outputs": [
    {
     "data": {
      "text/plain": [
       "49963"
      ]
     },
     "execution_count": 76,
     "metadata": {},
     "output_type": "execute_result"
    }
   ],
   "source": [
    "data.ID_TA.nunique()"
   ]
  },
  {
   "cell_type": "markdown",
   "metadata": {},
   "source": [
    "### С признаком URL_TA ничего не получилось сделать. Парсинг занимает очень много времени, поэтому не получилось использовать"
   ]
  },
  {
   "cell_type": "markdown",
   "metadata": {},
   "source": [
    "#### Посмотрим на загруженные датасеты и добавим новые признаки\n",
    "###### Оставил два признака coastline и gdp_country, они единственные хорошо влияют на MAE"
   ]
  },
  {
   "cell_type": "code",
   "execution_count": 77,
   "metadata": {
    "execution": {
     "iopub.execute_input": "2021-06-09T10:41:02.115283Z",
     "iopub.status.busy": "2021-06-09T10:41:02.114934Z",
     "iopub.status.idle": "2021-06-09T10:41:02.225083Z",
     "shell.execute_reply": "2021-06-09T10:41:02.224230Z",
     "shell.execute_reply.started": "2021-06-09T10:41:02.115246Z"
    }
   },
   "outputs": [],
   "source": [
    "data['coastline'] = data['Country'].map(data_countries.groupby('Country')['Coastline (coast/area ratio)'].sum())\n",
    "# Заменим все пустые значени в данном столбце на значение признака по стране United Kingdom\n",
    "data['coastline'] = data['coastline'].fillna('5,08')\n",
    "data['coastline'] = data['coastline'].apply(lambda x: float(str(x).replace(\",\",\".\")))"
   ]
  },
  {
   "cell_type": "code",
   "execution_count": 78,
   "metadata": {
    "execution": {
     "iopub.execute_input": "2021-06-09T10:41:02.226528Z",
     "iopub.status.busy": "2021-06-09T10:41:02.226151Z",
     "iopub.status.idle": "2021-06-09T10:41:02.304562Z",
     "shell.execute_reply": "2021-06-09T10:41:02.303826Z",
     "shell.execute_reply.started": "2021-06-09T10:41:02.226487Z"
    }
   },
   "outputs": [],
   "source": [
    "data['gdp_country'] = data['Country'].map(data_countries.groupby('Country')['GDP ($ per capita)'].sum())\n",
    "# Заменим все пустые значени в данном столбце на значение признака по стране United Kingdom\n",
    "data['gdp_country'] = data['gdp_country'].fillna(27700.0)\n",
    "data['gdp_country'] = data['gdp_country'].apply(lambda x: float(str(x).replace(\",\",\".\")))"
   ]
  },
  {
   "cell_type": "code",
   "execution_count": 79,
   "metadata": {
    "execution": {
     "iopub.execute_input": "2021-06-09T10:41:02.305936Z",
     "iopub.status.busy": "2021-06-09T10:41:02.305585Z",
     "iopub.status.idle": "2021-06-09T10:41:02.378457Z",
     "shell.execute_reply": "2021-06-09T10:41:02.377649Z",
     "shell.execute_reply.started": "2021-06-09T10:41:02.305899Z"
    }
   },
   "outputs": [],
   "source": [
    "# закодируем City\n",
    "data = pd.get_dummies(data, columns=['City'], dummy_na=False)"
   ]
  },
  {
   "cell_type": "markdown",
   "metadata": {},
   "source": [
    "# EDA \n",
    "[Exploratory Data Analysis](https://ru.wikipedia.org/wiki/Разведочный_анализ_данных) - Анализ данных\n",
    "На этом этапе мы строим графики, ищем закономерности, аномалии, выбросы или связи между признаками.\n",
    "В общем цель этого этапа понять, что эти данные могут нам дать и как признаки могут быть взаимосвязаны между собой.\n",
    "Понимание изначальных признаков позволит сгенерировать новые, более сильные и, тем самым, сделать нашу модель лучше."
   ]
  },
  {
   "cell_type": "markdown",
   "metadata": {},
   "source": [
    "### Посмотрим распределение признака"
   ]
  },
  {
   "cell_type": "code",
   "execution_count": 80,
   "metadata": {
    "execution": {
     "iopub.execute_input": "2021-06-09T10:41:02.379909Z",
     "iopub.status.busy": "2021-06-09T10:41:02.379569Z",
     "iopub.status.idle": "2021-06-09T10:41:02.874908Z",
     "shell.execute_reply": "2021-06-09T10:41:02.873959Z",
     "shell.execute_reply.started": "2021-06-09T10:41:02.379872Z"
    }
   },
   "outputs": [
    {
     "data": {
      "text/plain": [
       "<matplotlib.axes._subplots.AxesSubplot at 0x7f1e1fa068d0>"
      ]
     },
     "execution_count": 80,
     "metadata": {},
     "output_type": "execute_result"
    },
    {
     "data": {
      "image/png": "[encoded data removed]",
      "text/plain": [
       "<Figure size 720x504 with 1 Axes>"
      ]
     },
     "metadata": {
      "needs_background": "light"
     },
     "output_type": "display_data"
    }
   ],
   "source": [
    "plt.rcParams['figure.figsize'] = (10,7)\n",
    "df_train['Ranking'].hist(bins=100)"
   ]
  },
  {
   "cell_type": "markdown",
   "metadata": {},
   "source": [
    "У нас много ресторанов, которые не дотягивают и до 2500 места в своем городе, а что там по городам?"
   ]
  },
  {
   "cell_type": "code",
   "execution_count": 81,
   "metadata": {
    "execution": {
     "iopub.execute_input": "2021-06-09T10:41:02.876968Z",
     "iopub.status.busy": "2021-06-09T10:41:02.876454Z",
     "iopub.status.idle": "2021-06-09T10:41:03.335125Z",
     "shell.execute_reply": "2021-06-09T10:41:03.334069Z",
     "shell.execute_reply.started": "2021-06-09T10:41:02.876911Z"
    }
   },
   "outputs": [
    {
     "data": {
      "text/plain": [
       "<matplotlib.axes._subplots.AxesSubplot at 0x7f1e0e3eef60>"
      ]
     },
     "execution_count": 81,
     "metadata": {},
     "output_type": "execute_result"
    },
    {
     "data": {
      "image/png": "[encoded data removed]",
      "text/plain": [
       "<Figure size 720x504 with 1 Axes>"
      ]
     },
     "metadata": {
      "needs_background": "light"
     },
     "output_type": "display_data"
    }
   ],
   "source": [
    "df_train['City'].value_counts(ascending=True).plot(kind='barh')"
   ]
  },
  {
   "cell_type": "markdown",
   "metadata": {},
   "source": [
    "А кто-то говорил, что французы любят поесть=) Посмотрим, как изменится распределение в большом городе:"
   ]
  },
  {
   "cell_type": "code",
   "execution_count": 82,
   "metadata": {
    "execution": {
     "iopub.execute_input": "2021-06-09T10:41:03.337286Z",
     "iopub.status.busy": "2021-06-09T10:41:03.336741Z",
     "iopub.status.idle": "2021-06-09T10:41:03.834539Z",
     "shell.execute_reply": "2021-06-09T10:41:03.833556Z",
     "shell.execute_reply.started": "2021-06-09T10:41:03.337226Z"
    }
   },
   "outputs": [
    {
     "data": {
      "text/plain": [
       "<matplotlib.axes._subplots.AxesSubplot at 0x7f1e0e4d57f0>"
      ]
     },
     "execution_count": 82,
     "metadata": {},
     "output_type": "execute_result"
    },
    {
     "data": {
      "image/png": "[encoded data removed]",
      "text/plain": [
       "<Figure size 720x504 with 1 Axes>"
      ]
     },
     "metadata": {
      "needs_background": "light"
     },
     "output_type": "display_data"
    }
   ],
   "source": [
    "df_train['Ranking'][df_train['City'] =='London'].hist(bins=100)"
   ]
  },
  {
   "cell_type": "code",
   "execution_count": 83,
   "metadata": {
    "execution": {
     "iopub.execute_input": "2021-06-09T10:41:03.836734Z",
     "iopub.status.busy": "2021-06-09T10:41:03.836181Z",
     "iopub.status.idle": "2021-06-09T10:41:06.428605Z",
     "shell.execute_reply": "2021-06-09T10:41:06.427580Z",
     "shell.execute_reply.started": "2021-06-09T10:41:03.836673Z"
    }
   },
   "outputs": [
    {
     "data": {
      "image/png": "[encoded data removed]",
      "text/plain": [
       "<Figure size 720x504 with 1 Axes>"
      ]
     },
     "metadata": {
      "needs_background": "light"
     },
     "output_type": "display_data"
    }
   ],
   "source": [
    "# посмотрим на топ 10 городов\n",
    "for x in (df_train['City'].value_counts())[0:10].index:\n",
    "    df_train['Ranking'][df_train['City'] == x].hist(bins=100)\n",
    "plt.show()"
   ]
  },
  {
   "cell_type": "markdown",
   "metadata": {},
   "source": [
    "### Посмотрим распределение целевой переменной"
   ]
  },
  {
   "cell_type": "code",
   "execution_count": 84,
   "metadata": {
    "execution": {
     "iopub.execute_input": "2021-06-09T10:41:06.430795Z",
     "iopub.status.busy": "2021-06-09T10:41:06.430203Z",
     "iopub.status.idle": "2021-06-09T10:41:06.709444Z",
     "shell.execute_reply": "2021-06-09T10:41:06.708402Z",
     "shell.execute_reply.started": "2021-06-09T10:41:06.430734Z"
    }
   },
   "outputs": [
    {
     "data": {
      "text/plain": [
       "<matplotlib.axes._subplots.AxesSubplot at 0x7f1de67effd0>"
      ]
     },
     "execution_count": 84,
     "metadata": {},
     "output_type": "execute_result"
    },
    {
     "data": {
      "image/png": "[encoded data removed]",
      "text/plain": [
       "<Figure size 720x504 with 1 Axes>"
      ]
     },
     "metadata": {
      "needs_background": "light"
     },
     "output_type": "display_data"
    }
   ],
   "source": [
    "df_train['Rating'].value_counts(ascending=True).plot(kind='barh')"
   ]
  },
  {
   "cell_type": "code",
   "execution_count": 85,
   "metadata": {
    "execution": {
     "iopub.execute_input": "2021-06-09T10:41:06.711762Z",
     "iopub.status.busy": "2021-06-09T10:41:06.711166Z",
     "iopub.status.idle": "2021-06-09T10:41:07.780100Z",
     "shell.execute_reply": "2021-06-09T10:41:07.779132Z",
     "shell.execute_reply.started": "2021-06-09T10:41:06.711697Z"
    }
   },
   "outputs": [
    {
     "data": {
      "text/plain": [
       "<matplotlib.axes._subplots.AxesSubplot at 0x7f1de6799be0>"
      ]
     },
     "execution_count": 85,
     "metadata": {},
     "output_type": "execute_result"
    },
    {
     "data": {
      "image/png": "[encoded data removed]",
      "text/plain": [
       "<Figure size 720x504 with 1 Axes>"
      ]
     },
     "metadata": {
      "needs_background": "light"
     },
     "output_type": "display_data"
    }
   ],
   "source": [
    "df_train['Ranking'][(df_train['Rating'] >= 3.5) & (df_train['Rating'] < 5)].hist(bins=100)"
   ]
  },
  {
   "cell_type": "markdown",
   "metadata": {},
   "source": [
    "### Посмотрим распределение целевой переменной относительно признака"
   ]
  },
  {
   "cell_type": "code",
   "execution_count": 86,
   "metadata": {
    "execution": {
     "iopub.execute_input": "2021-06-09T10:41:07.782221Z",
     "iopub.status.busy": "2021-06-09T10:41:07.781684Z",
     "iopub.status.idle": "2021-06-09T10:41:08.295051Z",
     "shell.execute_reply": "2021-06-09T10:41:08.294012Z",
     "shell.execute_reply.started": "2021-06-09T10:41:07.782163Z"
    }
   },
   "outputs": [
    {
     "data": {
      "text/plain": [
       "<matplotlib.axes._subplots.AxesSubplot at 0x7f1de6863e48>"
      ]
     },
     "execution_count": 86,
     "metadata": {},
     "output_type": "execute_result"
    },
    {
     "data": {
      "image/png": "[encoded data removed]",
      "text/plain": [
       "<Figure size 720x504 with 1 Axes>"
      ]
     },
     "metadata": {
      "needs_background": "light"
     },
     "output_type": "display_data"
    }
   ],
   "source": [
    "df_train['Ranking'][df_train['Rating'] == 5].hist(bins=100)"
   ]
  },
  {
   "cell_type": "code",
   "execution_count": 87,
   "metadata": {
    "execution": {
     "iopub.execute_input": "2021-06-09T10:41:08.297227Z",
     "iopub.status.busy": "2021-06-09T10:41:08.296684Z",
     "iopub.status.idle": "2021-06-09T10:41:08.803102Z",
     "shell.execute_reply": "2021-06-09T10:41:08.802021Z",
     "shell.execute_reply.started": "2021-06-09T10:41:08.297167Z"
    }
   },
   "outputs": [
    {
     "data": {
      "text/plain": [
       "<matplotlib.axes._subplots.AxesSubplot at 0x7f1e1f90d668>"
      ]
     },
     "execution_count": 87,
     "metadata": {},
     "output_type": "execute_result"
    },
    {
     "data": {
      "image/png": "[encoded data removed]",
      "text/plain": [
       "<Figure size 720x504 with 1 Axes>"
      ]
     },
     "metadata": {
      "needs_background": "light"
     },
     "output_type": "display_data"
    }
   ],
   "source": [
    "df_train['Ranking'][df_train['Rating'] < 4].hist(bins=100)"
   ]
  },
  {
   "cell_type": "markdown",
   "metadata": {},
   "source": [
    "### И один из моих любимых - [корреляция признаков](https://ru.wikipedia.org/wiki/Корреляция)\n",
    "На этом графике уже сейчас вы сможете заметить, как признаки связаны между собой и с целевой переменной."
   ]
  },
  {
   "cell_type": "code",
   "execution_count": 88,
   "metadata": {
    "execution": {
     "iopub.execute_input": "2021-06-09T10:41:08.805305Z",
     "iopub.status.busy": "2021-06-09T10:41:08.804741Z",
     "iopub.status.idle": "2021-06-09T10:41:11.398843Z",
     "shell.execute_reply": "2021-06-09T10:41:11.398005Z",
     "shell.execute_reply.started": "2021-06-09T10:41:08.805248Z"
    }
   },
   "outputs": [
    {
     "data": {
      "text/plain": [
       "<matplotlib.axes._subplots.AxesSubplot at 0x7f1de69d7e80>"
      ]
     },
     "execution_count": 88,
     "metadata": {},
     "output_type": "execute_result"
    },
    {
     "data": {
      "image/png": "[encoded data removed]",
      "text/plain": [
       "<Figure size 1080x720 with 2 Axes>"
      ]
     },
     "metadata": {
      "needs_background": "light"
     },
     "output_type": "display_data"
    }
   ],
   "source": [
    "plt.rcParams['figure.figsize'] = (15,10)\n",
    "sns.heatmap(data.drop(['sample'], axis=1).corr(),)"
   ]
  },
  {
   "cell_type": "markdown",
   "metadata": {},
   "source": [
    "Вообще благодаря визуализации в этом датасете можно узнать много интересных фактов, например:\n",
    "* где больше Пицерий в Мадриде или Лондоне?\n",
    "* в каком городе кухня ресторанов более разнообразна?\n",
    "\n",
    "придумайте свои вопрос и найдите на него ответ в данных)"
   ]
  },
  {
   "cell_type": "markdown",
   "metadata": {},
   "source": [
    "# Data Preprocessing"
   ]
  },
  {
   "cell_type": "code",
   "execution_count": 89,
   "metadata": {
    "execution": {
     "iopub.execute_input": "2021-06-09T10:41:11.400397Z",
     "iopub.status.busy": "2021-06-09T10:41:11.400112Z",
     "iopub.status.idle": "2021-06-09T10:41:11.462782Z",
     "shell.execute_reply": "2021-06-09T10:41:11.461816Z",
     "shell.execute_reply.started": "2021-06-09T10:41:11.400345Z"
    }
   },
   "outputs": [],
   "source": [
    "# очищаем наши данные от личшнего\n",
    "df_preproc = data.copy()\n",
    "df_preproc.drop(['Restaurant_id', 'ID_TA', ], axis=1, inplace=True)\n",
    "df_preproc = df_preproc.select_dtypes(exclude=['object', 'datetime64[ns]'])"
   ]
  },
  {
   "cell_type": "markdown",
   "metadata": {},
   "source": [
    "#### Запускаем и проверяем что получилось"
   ]
  },
  {
   "cell_type": "code",
   "execution_count": 90,
   "metadata": {
    "execution": {
     "iopub.execute_input": "2021-06-09T10:41:11.464547Z",
     "iopub.status.busy": "2021-06-09T10:41:11.464203Z",
     "iopub.status.idle": "2021-06-09T10:41:11.497308Z",
     "shell.execute_reply": "2021-06-09T10:41:11.496269Z",
     "shell.execute_reply.started": "2021-06-09T10:41:11.464475Z"
    }
   },
   "outputs": [
    {
     "data": {
      "text/html": [
       "<div>\n",
       "<style scoped>\n",
       "    .dataframe tbody tr th:only-of-type {\n",
       "        vertical-align: middle;\n",
       "    }\n",
       "\n",
       "    .dataframe tbody tr th {\n",
       "        vertical-align: top;\n",
       "    }\n",
       "\n",
       "    .dataframe thead th {\n",
       "        text-align: right;\n",
       "    }\n",
       "</style>\n",
       "<table border=\"1\" class=\"dataframe\">\n",
       "  <thead>\n",
       "    <tr style=\"text-align: right;\">\n",
       "      <th></th>\n",
       "      <th>Ranking</th>\n",
       "      <th>Number_of_Reviews</th>\n",
       "      <th>sample</th>\n",
       "      <th>Rating</th>\n",
       "      <th>Number_of_Reviews_isNAN</th>\n",
       "      <th>Cuisine_Style_isNAN</th>\n",
       "      <th>Price_Range_isNAN</th>\n",
       "      <th>Restaurant_id_Code</th>\n",
       "      <th>Capital_0</th>\n",
       "      <th>Capital_1</th>\n",
       "      <th>...</th>\n",
       "      <th>City_Munich</th>\n",
       "      <th>City_Oporto</th>\n",
       "      <th>City_Oslo</th>\n",
       "      <th>City_Paris</th>\n",
       "      <th>City_Prague</th>\n",
       "      <th>City_Rome</th>\n",
       "      <th>City_Stockholm</th>\n",
       "      <th>City_Vienna</th>\n",
       "      <th>City_Warsaw</th>\n",
       "      <th>City_Zurich</th>\n",
       "    </tr>\n",
       "  </thead>\n",
       "  <tbody>\n",
       "    <tr>\n",
       "      <th>21961</th>\n",
       "      <td>6957.0</td>\n",
       "      <td>30.0</td>\n",
       "      <td>1</td>\n",
       "      <td>4.5</td>\n",
       "      <td>0</td>\n",
       "      <td>0</td>\n",
       "      <td>0</td>\n",
       "      <td>6948</td>\n",
       "      <td>0</td>\n",
       "      <td>1</td>\n",
       "      <td>...</td>\n",
       "      <td>0</td>\n",
       "      <td>0</td>\n",
       "      <td>0</td>\n",
       "      <td>0</td>\n",
       "      <td>0</td>\n",
       "      <td>0</td>\n",
       "      <td>0</td>\n",
       "      <td>0</td>\n",
       "      <td>0</td>\n",
       "      <td>0</td>\n",
       "    </tr>\n",
       "    <tr>\n",
       "      <th>32897</th>\n",
       "      <td>397.0</td>\n",
       "      <td>481.0</td>\n",
       "      <td>1</td>\n",
       "      <td>4.0</td>\n",
       "      <td>0</td>\n",
       "      <td>0</td>\n",
       "      <td>0</td>\n",
       "      <td>396</td>\n",
       "      <td>1</td>\n",
       "      <td>0</td>\n",
       "      <td>...</td>\n",
       "      <td>0</td>\n",
       "      <td>1</td>\n",
       "      <td>0</td>\n",
       "      <td>0</td>\n",
       "      <td>0</td>\n",
       "      <td>0</td>\n",
       "      <td>0</td>\n",
       "      <td>0</td>\n",
       "      <td>0</td>\n",
       "      <td>0</td>\n",
       "    </tr>\n",
       "    <tr>\n",
       "      <th>9505</th>\n",
       "      <td>1324.0</td>\n",
       "      <td>4.0</td>\n",
       "      <td>0</td>\n",
       "      <td>0.0</td>\n",
       "      <td>0</td>\n",
       "      <td>1</td>\n",
       "      <td>1</td>\n",
       "      <td>9505</td>\n",
       "      <td>0</td>\n",
       "      <td>1</td>\n",
       "      <td>...</td>\n",
       "      <td>0</td>\n",
       "      <td>0</td>\n",
       "      <td>0</td>\n",
       "      <td>0</td>\n",
       "      <td>0</td>\n",
       "      <td>0</td>\n",
       "      <td>1</td>\n",
       "      <td>0</td>\n",
       "      <td>0</td>\n",
       "      <td>0</td>\n",
       "    </tr>\n",
       "    <tr>\n",
       "      <th>5308</th>\n",
       "      <td>13003.0</td>\n",
       "      <td>3.0</td>\n",
       "      <td>0</td>\n",
       "      <td>0.0</td>\n",
       "      <td>0</td>\n",
       "      <td>1</td>\n",
       "      <td>1</td>\n",
       "      <td>5308</td>\n",
       "      <td>0</td>\n",
       "      <td>1</td>\n",
       "      <td>...</td>\n",
       "      <td>0</td>\n",
       "      <td>0</td>\n",
       "      <td>0</td>\n",
       "      <td>1</td>\n",
       "      <td>0</td>\n",
       "      <td>0</td>\n",
       "      <td>0</td>\n",
       "      <td>0</td>\n",
       "      <td>0</td>\n",
       "      <td>0</td>\n",
       "    </tr>\n",
       "    <tr>\n",
       "      <th>16920</th>\n",
       "      <td>5069.0</td>\n",
       "      <td>33.0</td>\n",
       "      <td>1</td>\n",
       "      <td>4.5</td>\n",
       "      <td>0</td>\n",
       "      <td>1</td>\n",
       "      <td>1</td>\n",
       "      <td>5068</td>\n",
       "      <td>0</td>\n",
       "      <td>1</td>\n",
       "      <td>...</td>\n",
       "      <td>0</td>\n",
       "      <td>0</td>\n",
       "      <td>0</td>\n",
       "      <td>1</td>\n",
       "      <td>0</td>\n",
       "      <td>0</td>\n",
       "      <td>0</td>\n",
       "      <td>0</td>\n",
       "      <td>0</td>\n",
       "      <td>0</td>\n",
       "    </tr>\n",
       "    <tr>\n",
       "      <th>34626</th>\n",
       "      <td>2354.0</td>\n",
       "      <td>20.0</td>\n",
       "      <td>1</td>\n",
       "      <td>4.0</td>\n",
       "      <td>0</td>\n",
       "      <td>1</td>\n",
       "      <td>1</td>\n",
       "      <td>2352</td>\n",
       "      <td>0</td>\n",
       "      <td>1</td>\n",
       "      <td>...</td>\n",
       "      <td>0</td>\n",
       "      <td>0</td>\n",
       "      <td>0</td>\n",
       "      <td>0</td>\n",
       "      <td>0</td>\n",
       "      <td>0</td>\n",
       "      <td>0</td>\n",
       "      <td>0</td>\n",
       "      <td>0</td>\n",
       "      <td>0</td>\n",
       "    </tr>\n",
       "    <tr>\n",
       "      <th>21573</th>\n",
       "      <td>1122.0</td>\n",
       "      <td>5.0</td>\n",
       "      <td>1</td>\n",
       "      <td>4.5</td>\n",
       "      <td>0</td>\n",
       "      <td>1</td>\n",
       "      <td>1</td>\n",
       "      <td>1121</td>\n",
       "      <td>0</td>\n",
       "      <td>1</td>\n",
       "      <td>...</td>\n",
       "      <td>0</td>\n",
       "      <td>0</td>\n",
       "      <td>0</td>\n",
       "      <td>0</td>\n",
       "      <td>0</td>\n",
       "      <td>0</td>\n",
       "      <td>0</td>\n",
       "      <td>0</td>\n",
       "      <td>0</td>\n",
       "      <td>0</td>\n",
       "    </tr>\n",
       "    <tr>\n",
       "      <th>9595</th>\n",
       "      <td>419.0</td>\n",
       "      <td>5.0</td>\n",
       "      <td>0</td>\n",
       "      <td>0.0</td>\n",
       "      <td>0</td>\n",
       "      <td>0</td>\n",
       "      <td>0</td>\n",
       "      <td>9595</td>\n",
       "      <td>0</td>\n",
       "      <td>1</td>\n",
       "      <td>...</td>\n",
       "      <td>0</td>\n",
       "      <td>0</td>\n",
       "      <td>0</td>\n",
       "      <td>0</td>\n",
       "      <td>0</td>\n",
       "      <td>0</td>\n",
       "      <td>0</td>\n",
       "      <td>0</td>\n",
       "      <td>0</td>\n",
       "      <td>0</td>\n",
       "    </tr>\n",
       "    <tr>\n",
       "      <th>26220</th>\n",
       "      <td>5141.0</td>\n",
       "      <td>9.0</td>\n",
       "      <td>1</td>\n",
       "      <td>4.0</td>\n",
       "      <td>0</td>\n",
       "      <td>0</td>\n",
       "      <td>0</td>\n",
       "      <td>5140</td>\n",
       "      <td>1</td>\n",
       "      <td>0</td>\n",
       "      <td>...</td>\n",
       "      <td>0</td>\n",
       "      <td>0</td>\n",
       "      <td>0</td>\n",
       "      <td>0</td>\n",
       "      <td>0</td>\n",
       "      <td>0</td>\n",
       "      <td>0</td>\n",
       "      <td>0</td>\n",
       "      <td>0</td>\n",
       "      <td>0</td>\n",
       "    </tr>\n",
       "    <tr>\n",
       "      <th>34047</th>\n",
       "      <td>4318.0</td>\n",
       "      <td>3.0</td>\n",
       "      <td>1</td>\n",
       "      <td>4.5</td>\n",
       "      <td>0</td>\n",
       "      <td>1</td>\n",
       "      <td>1</td>\n",
       "      <td>4316</td>\n",
       "      <td>0</td>\n",
       "      <td>1</td>\n",
       "      <td>...</td>\n",
       "      <td>0</td>\n",
       "      <td>0</td>\n",
       "      <td>0</td>\n",
       "      <td>0</td>\n",
       "      <td>0</td>\n",
       "      <td>0</td>\n",
       "      <td>0</td>\n",
       "      <td>0</td>\n",
       "      <td>0</td>\n",
       "      <td>0</td>\n",
       "    </tr>\n",
       "  </tbody>\n",
       "</table>\n",
       "<p>10 rows × 101 columns</p>\n",
       "</div>"
      ],
      "text/plain": [
       "       Ranking  Number_of_Reviews  sample  Rating  Number_of_Reviews_isNAN  \\\n",
       "21961   6957.0               30.0       1     4.5                        0   \n",
       "32897    397.0              481.0       1     4.0                        0   \n",
       "9505    1324.0                4.0       0     0.0                        0   \n",
       "5308   13003.0                3.0       0     0.0                        0   \n",
       "16920   5069.0               33.0       1     4.5                        0   \n",
       "34626   2354.0               20.0       1     4.0                        0   \n",
       "21573   1122.0                5.0       1     4.5                        0   \n",
       "9595     419.0                5.0       0     0.0                        0   \n",
       "26220   5141.0                9.0       1     4.0                        0   \n",
       "34047   4318.0                3.0       1     4.5                        0   \n",
       "\n",
       "       Cuisine_Style_isNAN  Price_Range_isNAN  Restaurant_id_Code  Capital_0  \\\n",
       "21961                    0                  0                6948          0   \n",
       "32897                    0                  0                 396          1   \n",
       "9505                     1                  1                9505          0   \n",
       "5308                     1                  1                5308          0   \n",
       "16920                    1                  1                5068          0   \n",
       "34626                    1                  1                2352          0   \n",
       "21573                    1                  1                1121          0   \n",
       "9595                     0                  0                9595          0   \n",
       "26220                    0                  0                5140          1   \n",
       "34047                    1                  1                4316          0   \n",
       "\n",
       "       Capital_1  ...  City_Munich  City_Oporto  City_Oslo  City_Paris  \\\n",
       "21961          1  ...            0            0          0           0   \n",
       "32897          0  ...            0            1          0           0   \n",
       "9505           1  ...            0            0          0           0   \n",
       "5308           1  ...            0            0          0           1   \n",
       "16920          1  ...            0            0          0           1   \n",
       "34626          1  ...            0            0          0           0   \n",
       "21573          1  ...            0            0          0           0   \n",
       "9595           1  ...            0            0          0           0   \n",
       "26220          0  ...            0            0          0           0   \n",
       "34047          1  ...            0            0          0           0   \n",
       "\n",
       "       City_Prague  City_Rome  City_Stockholm  City_Vienna  City_Warsaw  \\\n",
       "21961            0          0               0            0            0   \n",
       "32897            0          0               0            0            0   \n",
       "9505             0          0               1            0            0   \n",
       "5308             0          0               0            0            0   \n",
       "16920            0          0               0            0            0   \n",
       "34626            0          0               0            0            0   \n",
       "21573            0          0               0            0            0   \n",
       "9595             0          0               0            0            0   \n",
       "26220            0          0               0            0            0   \n",
       "34047            0          0               0            0            0   \n",
       "\n",
       "       City_Zurich  \n",
       "21961            0  \n",
       "32897            0  \n",
       "9505             0  \n",
       "5308             0  \n",
       "16920            0  \n",
       "34626            0  \n",
       "21573            0  \n",
       "9595             0  \n",
       "26220            0  \n",
       "34047            0  \n",
       "\n",
       "[10 rows x 101 columns]"
      ]
     },
     "execution_count": 90,
     "metadata": {},
     "output_type": "execute_result"
    }
   ],
   "source": [
    "df_preproc.sample(10)"
   ]
  },
  {
   "cell_type": "code",
   "execution_count": 91,
   "metadata": {
    "execution": {
     "iopub.execute_input": "2021-06-09T10:41:11.499094Z",
     "iopub.status.busy": "2021-06-09T10:41:11.498798Z",
     "iopub.status.idle": "2021-06-09T10:41:11.513709Z",
     "shell.execute_reply": "2021-06-09T10:41:11.512787Z",
     "shell.execute_reply.started": "2021-06-09T10:41:11.499041Z"
    }
   },
   "outputs": [
    {
     "name": "stdout",
     "output_type": "stream",
     "text": [
      "<class 'pandas.core.frame.DataFrame'>\n",
      "RangeIndex: 50000 entries, 0 to 49999\n",
      "Columns: 101 entries, Ranking to City_Zurich\n",
      "dtypes: float64(21), int64(35), uint8(45)\n",
      "memory usage: 23.5 MB\n"
     ]
    }
   ],
   "source": [
    "df_preproc.info()"
   ]
  },
  {
   "cell_type": "code",
   "execution_count": 92,
   "metadata": {
    "execution": {
     "iopub.execute_input": "2021-06-09T10:41:11.515360Z",
     "iopub.status.busy": "2021-06-09T10:41:11.515071Z",
     "iopub.status.idle": "2021-06-09T10:41:11.561667Z",
     "shell.execute_reply": "2021-06-09T10:41:11.560876Z",
     "shell.execute_reply.started": "2021-06-09T10:41:11.515309Z"
    }
   },
   "outputs": [],
   "source": [
    "# Теперь выделим тестовую часть\n",
    "train_data = df_preproc.query('sample == 1').drop(['sample'], axis=1)\n",
    "test_data = df_preproc.query('sample == 0').drop(['sample'], axis=1)\n",
    "\n",
    "y = train_data.Rating.values            # наш таргет\n",
    "X = train_data.drop(['Rating'], axis=1)"
   ]
  },
  {
   "cell_type": "markdown",
   "metadata": {},
   "source": [
    "**Перед тем как отправлять наши данные на обучение, разделим данные на еще один тест и трейн, для валидации. \n",
    "Это поможет нам проверить, как хорошо наша модель работает, до отправки submissiona на kaggle.**"
   ]
  },
  {
   "cell_type": "code",
   "execution_count": 93,
   "metadata": {
    "execution": {
     "iopub.execute_input": "2021-06-09T10:41:11.562944Z",
     "iopub.status.busy": "2021-06-09T10:41:11.562737Z",
     "iopub.status.idle": "2021-06-09T10:41:11.587213Z",
     "shell.execute_reply": "2021-06-09T10:41:11.586405Z",
     "shell.execute_reply.started": "2021-06-09T10:41:11.562912Z"
    }
   },
   "outputs": [],
   "source": [
    "# Воспользуемся специальной функцие train_test_split для разбивки тестовых данных\n",
    "# выделим 20% данных на валидацию (параметр test_size)\n",
    "X_train, X_test, y_train, y_test = train_test_split(X, y, test_size=0.2, random_state=RANDOM_SEED)"
   ]
  },
  {
   "cell_type": "code",
   "execution_count": 94,
   "metadata": {
    "execution": {
     "iopub.execute_input": "2021-06-09T10:41:11.588759Z",
     "iopub.status.busy": "2021-06-09T10:41:11.588495Z",
     "iopub.status.idle": "2021-06-09T10:41:11.595343Z",
     "shell.execute_reply": "2021-06-09T10:41:11.594455Z",
     "shell.execute_reply.started": "2021-06-09T10:41:11.588715Z"
    }
   },
   "outputs": [
    {
     "data": {
      "text/plain": [
       "((10000, 100), (40000, 100), (40000, 99), (32000, 99), (8000, 99))"
      ]
     },
     "execution_count": 94,
     "metadata": {},
     "output_type": "execute_result"
    }
   ],
   "source": [
    "# проверяем\n",
    "test_data.shape, train_data.shape, X.shape, X_train.shape, X_test.shape"
   ]
  },
  {
   "cell_type": "markdown",
   "metadata": {},
   "source": [
    "# Model \n",
    "Сам ML"
   ]
  },
  {
   "cell_type": "code",
   "execution_count": 95,
   "metadata": {
    "execution": {
     "iopub.execute_input": "2021-06-09T10:41:11.596778Z",
     "iopub.status.busy": "2021-06-09T10:41:11.596509Z",
     "iopub.status.idle": "2021-06-09T10:41:11.606173Z",
     "shell.execute_reply": "2021-06-09T10:41:11.605193Z",
     "shell.execute_reply.started": "2021-06-09T10:41:11.596730Z"
    }
   },
   "outputs": [],
   "source": [
    "# Импортируем необходимые библиотеки:\n",
    "from sklearn.ensemble import RandomForestRegressor # инструмент для создания и обучения модели\n",
    "from sklearn import metrics # инструменты для оценки точности модели"
   ]
  },
  {
   "cell_type": "code",
   "execution_count": 96,
   "metadata": {
    "execution": {
     "iopub.execute_input": "2021-06-09T10:41:11.608334Z",
     "iopub.status.busy": "2021-06-09T10:41:11.607962Z",
     "iopub.status.idle": "2021-06-09T10:41:11.617642Z",
     "shell.execute_reply": "2021-06-09T10:41:11.616793Z",
     "shell.execute_reply.started": "2021-06-09T10:41:11.608277Z"
    }
   },
   "outputs": [],
   "source": [
    "# Создаём модель (НАСТРОЙКИ НЕ ТРОГАЕМ)\n",
    "model = RandomForestRegressor(n_estimators=100, verbose=1, n_jobs=-1, random_state=RANDOM_SEED)"
   ]
  },
  {
   "cell_type": "code",
   "execution_count": 97,
   "metadata": {
    "execution": {
     "iopub.execute_input": "2021-06-09T10:41:11.619919Z",
     "iopub.status.busy": "2021-06-09T10:41:11.619223Z",
     "iopub.status.idle": "2021-06-09T10:41:36.061568Z",
     "shell.execute_reply": "2021-06-09T10:41:36.060788Z",
     "shell.execute_reply.started": "2021-06-09T10:41:11.619860Z"
    }
   },
   "outputs": [
    {
     "name": "stderr",
     "output_type": "stream",
     "text": [
      "[Parallel(n_jobs=-1)]: Using backend ThreadingBackend with 4 concurrent workers.\n",
      "[Parallel(n_jobs=-1)]: Done  42 tasks      | elapsed:    9.0s\n",
      "[Parallel(n_jobs=-1)]: Done 100 out of 100 | elapsed:   20.5s finished\n",
      "[Parallel(n_jobs=4)]: Using backend ThreadingBackend with 4 concurrent workers.\n",
      "[Parallel(n_jobs=4)]: Done  42 tasks      | elapsed:    0.0s\n",
      "[Parallel(n_jobs=4)]: Done 100 out of 100 | elapsed:    0.1s finished\n"
     ]
    }
   ],
   "source": [
    "# Обучаем модель на тестовом наборе данных\n",
    "model.fit(X_train, y_train)\n",
    "\n",
    "# Используем обученную модель для предсказания рейтинга ресторанов в тестовой выборке.\n",
    "# Предсказанные значения записываем в переменную y_pred\n",
    "y_pred = model.predict(X_test)"
   ]
  },
  {
   "cell_type": "code",
   "execution_count": 98,
   "metadata": {
    "execution": {
     "iopub.execute_input": "2021-06-09T10:41:36.062982Z",
     "iopub.status.busy": "2021-06-09T10:41:36.062521Z",
     "iopub.status.idle": "2021-06-09T10:41:36.068634Z",
     "shell.execute_reply": "2021-06-09T10:41:36.067940Z",
     "shell.execute_reply.started": "2021-06-09T10:41:36.062928Z"
    }
   },
   "outputs": [
    {
     "data": {
      "text/plain": [
       "array([4.46 , 4.89 , 4.25 , ..., 4.65 , 4.225, 4.07 ])"
      ]
     },
     "execution_count": 98,
     "metadata": {},
     "output_type": "execute_result"
    }
   ],
   "source": [
    "# Если посмотреть на получившиеся данные, заметим, что числа не кратны 0.5,\n",
    "y_pred"
   ]
  },
  {
   "cell_type": "code",
   "execution_count": 99,
   "metadata": {
    "execution": {
     "iopub.execute_input": "2021-06-09T10:41:36.070238Z",
     "iopub.status.busy": "2021-06-09T10:41:36.069946Z",
     "iopub.status.idle": "2021-06-09T10:41:36.213725Z",
     "shell.execute_reply": "2021-06-09T10:41:36.213053Z",
     "shell.execute_reply.started": "2021-06-09T10:41:36.070189Z"
    }
   },
   "outputs": [
    {
     "name": "stderr",
     "output_type": "stream",
     "text": [
      "[Parallel(n_jobs=4)]: Using backend ThreadingBackend with 4 concurrent workers.\n",
      "[Parallel(n_jobs=4)]: Done  42 tasks      | elapsed:    0.0s\n",
      "[Parallel(n_jobs=4)]: Done 100 out of 100 | elapsed:    0.1s finished\n"
     ]
    }
   ],
   "source": [
    "# округлим данные\n",
    "# Округляем результаты с точностью 0.5\n",
    "\n",
    "def rating_round(x, base=0.5):\n",
    "    return base * round(x/base)\n",
    "\n",
    "def predict(ds):\n",
    "    return np.array([rating_round(x) for x in model.predict(ds)])\n",
    "\n",
    "y_pred = predict(X_test)"
   ]
  },
  {
   "cell_type": "code",
   "execution_count": 100,
   "metadata": {
    "execution": {
     "iopub.execute_input": "2021-06-09T10:41:36.215223Z",
     "iopub.status.busy": "2021-06-09T10:41:36.214800Z",
     "iopub.status.idle": "2021-06-09T10:41:36.220955Z",
     "shell.execute_reply": "2021-06-09T10:41:36.219777Z",
     "shell.execute_reply.started": "2021-06-09T10:41:36.215177Z"
    }
   },
   "outputs": [
    {
     "data": {
      "text/plain": [
       "array([4.5, 5. , 4. , ..., 4.5, 4. , 4. ])"
      ]
     },
     "execution_count": 100,
     "metadata": {},
     "output_type": "execute_result"
    }
   ],
   "source": [
    "y_pred"
   ]
  },
  {
   "cell_type": "code",
   "execution_count": 101,
   "metadata": {
    "execution": {
     "iopub.execute_input": "2021-06-09T10:41:36.222528Z",
     "iopub.status.busy": "2021-06-09T10:41:36.222267Z",
     "iopub.status.idle": "2021-06-09T10:41:36.233540Z",
     "shell.execute_reply": "2021-06-09T10:41:36.232738Z",
     "shell.execute_reply.started": "2021-06-09T10:41:36.222486Z"
    }
   },
   "outputs": [
    {
     "name": "stdout",
     "output_type": "stream",
     "text": [
      "MAE: 0.162\n"
     ]
    }
   ],
   "source": [
    "# Сравниваем предсказанные значения (y_pred) с реальными (y_test), и смотрим насколько они в среднем отличаются\n",
    "# Метрика называется Mean Absolute Error (MAE) и показывает среднее отклонение предсказанных значений от фактических.\n",
    "print('MAE:', metrics.mean_absolute_error(y_test, y_pred))"
   ]
  },
  {
   "cell_type": "code",
   "execution_count": 102,
   "metadata": {
    "execution": {
     "iopub.execute_input": "2021-06-09T10:41:36.235630Z",
     "iopub.status.busy": "2021-06-09T10:41:36.235091Z",
     "iopub.status.idle": "2021-06-09T10:41:36.664218Z",
     "shell.execute_reply": "2021-06-09T10:41:36.662924Z",
     "shell.execute_reply.started": "2021-06-09T10:41:36.235585Z"
    }
   },
   "outputs": [
    {
     "data": {
      "text/plain": [
       "<matplotlib.axes._subplots.AxesSubplot at 0x7f1de4ca68d0>"
      ]
     },
     "execution_count": 102,
     "metadata": {},
     "output_type": "execute_result"
    },
    {
     "data": {
      "image/png": "[encoded data removed]",
      "text/plain": [
       "<Figure size 720x720 with 1 Axes>"
      ]
     },
     "metadata": {
      "needs_background": "light"
     },
     "output_type": "display_data"
    }
   ],
   "source": [
    "# в RandomForestRegressor есть возможность вывести самые важные признаки для модели\n",
    "plt.rcParams['figure.figsize'] = (10,10)\n",
    "feat_importances = pd.Series(model.feature_importances_, index=X.columns)\n",
    "feat_importances.nlargest(10).plot(kind='barh')"
   ]
  },
  {
   "cell_type": "markdown",
   "metadata": {},
   "source": [
    "# Submission\n",
    "Если все устраевает - готовим Submission на кагл"
   ]
  },
  {
   "cell_type": "code",
   "execution_count": 103,
   "metadata": {
    "execution": {
     "iopub.execute_input": "2021-06-09T10:41:36.666754Z",
     "iopub.status.busy": "2021-06-09T10:41:36.666102Z",
     "iopub.status.idle": "2021-06-09T10:41:36.702589Z",
     "shell.execute_reply": "2021-06-09T10:41:36.701988Z",
     "shell.execute_reply.started": "2021-06-09T10:41:36.666696Z"
    }
   },
   "outputs": [
    {
     "data": {
      "text/html": [
       "<div>\n",
       "<style scoped>\n",
       "    .dataframe tbody tr th:only-of-type {\n",
       "        vertical-align: middle;\n",
       "    }\n",
       "\n",
       "    .dataframe tbody tr th {\n",
       "        vertical-align: top;\n",
       "    }\n",
       "\n",
       "    .dataframe thead th {\n",
       "        text-align: right;\n",
       "    }\n",
       "</style>\n",
       "<table border=\"1\" class=\"dataframe\">\n",
       "  <thead>\n",
       "    <tr style=\"text-align: right;\">\n",
       "      <th></th>\n",
       "      <th>Ranking</th>\n",
       "      <th>Number_of_Reviews</th>\n",
       "      <th>Rating</th>\n",
       "      <th>Number_of_Reviews_isNAN</th>\n",
       "      <th>Cuisine_Style_isNAN</th>\n",
       "      <th>Price_Range_isNAN</th>\n",
       "      <th>Restaurant_id_Code</th>\n",
       "      <th>Capital_0</th>\n",
       "      <th>Capital_1</th>\n",
       "      <th>Country_Code</th>\n",
       "      <th>...</th>\n",
       "      <th>City_Munich</th>\n",
       "      <th>City_Oporto</th>\n",
       "      <th>City_Oslo</th>\n",
       "      <th>City_Paris</th>\n",
       "      <th>City_Prague</th>\n",
       "      <th>City_Rome</th>\n",
       "      <th>City_Stockholm</th>\n",
       "      <th>City_Vienna</th>\n",
       "      <th>City_Warsaw</th>\n",
       "      <th>City_Zurich</th>\n",
       "    </tr>\n",
       "  </thead>\n",
       "  <tbody>\n",
       "    <tr>\n",
       "      <th>6452</th>\n",
       "      <td>15635.0</td>\n",
       "      <td>15.0</td>\n",
       "      <td>0.0</td>\n",
       "      <td>0</td>\n",
       "      <td>0</td>\n",
       "      <td>1</td>\n",
       "      <td>6452</td>\n",
       "      <td>0</td>\n",
       "      <td>1</td>\n",
       "      <td>22</td>\n",
       "      <td>...</td>\n",
       "      <td>0</td>\n",
       "      <td>0</td>\n",
       "      <td>0</td>\n",
       "      <td>0</td>\n",
       "      <td>0</td>\n",
       "      <td>0</td>\n",
       "      <td>0</td>\n",
       "      <td>0</td>\n",
       "      <td>0</td>\n",
       "      <td>0</td>\n",
       "    </tr>\n",
       "    <tr>\n",
       "      <th>8939</th>\n",
       "      <td>2398.0</td>\n",
       "      <td>13.0</td>\n",
       "      <td>0.0</td>\n",
       "      <td>0</td>\n",
       "      <td>1</td>\n",
       "      <td>1</td>\n",
       "      <td>8939</td>\n",
       "      <td>1</td>\n",
       "      <td>0</td>\n",
       "      <td>5</td>\n",
       "      <td>...</td>\n",
       "      <td>0</td>\n",
       "      <td>0</td>\n",
       "      <td>0</td>\n",
       "      <td>0</td>\n",
       "      <td>0</td>\n",
       "      <td>0</td>\n",
       "      <td>0</td>\n",
       "      <td>0</td>\n",
       "      <td>0</td>\n",
       "      <td>0</td>\n",
       "    </tr>\n",
       "    <tr>\n",
       "      <th>6410</th>\n",
       "      <td>12067.0</td>\n",
       "      <td>2.0</td>\n",
       "      <td>0.0</td>\n",
       "      <td>0</td>\n",
       "      <td>1</td>\n",
       "      <td>1</td>\n",
       "      <td>6410</td>\n",
       "      <td>0</td>\n",
       "      <td>1</td>\n",
       "      <td>5</td>\n",
       "      <td>...</td>\n",
       "      <td>0</td>\n",
       "      <td>0</td>\n",
       "      <td>0</td>\n",
       "      <td>1</td>\n",
       "      <td>0</td>\n",
       "      <td>0</td>\n",
       "      <td>0</td>\n",
       "      <td>0</td>\n",
       "      <td>0</td>\n",
       "      <td>0</td>\n",
       "    </tr>\n",
       "    <tr>\n",
       "      <th>3822</th>\n",
       "      <td>6804.0</td>\n",
       "      <td>15.0</td>\n",
       "      <td>0.0</td>\n",
       "      <td>0</td>\n",
       "      <td>0</td>\n",
       "      <td>0</td>\n",
       "      <td>3822</td>\n",
       "      <td>0</td>\n",
       "      <td>1</td>\n",
       "      <td>22</td>\n",
       "      <td>...</td>\n",
       "      <td>0</td>\n",
       "      <td>0</td>\n",
       "      <td>0</td>\n",
       "      <td>0</td>\n",
       "      <td>0</td>\n",
       "      <td>0</td>\n",
       "      <td>0</td>\n",
       "      <td>0</td>\n",
       "      <td>0</td>\n",
       "      <td>0</td>\n",
       "    </tr>\n",
       "    <tr>\n",
       "      <th>4830</th>\n",
       "      <td>1435.0</td>\n",
       "      <td>32.0</td>\n",
       "      <td>0.0</td>\n",
       "      <td>0</td>\n",
       "      <td>0</td>\n",
       "      <td>0</td>\n",
       "      <td>4830</td>\n",
       "      <td>0</td>\n",
       "      <td>1</td>\n",
       "      <td>14</td>\n",
       "      <td>...</td>\n",
       "      <td>0</td>\n",
       "      <td>0</td>\n",
       "      <td>0</td>\n",
       "      <td>0</td>\n",
       "      <td>0</td>\n",
       "      <td>0</td>\n",
       "      <td>0</td>\n",
       "      <td>0</td>\n",
       "      <td>1</td>\n",
       "      <td>0</td>\n",
       "    </tr>\n",
       "    <tr>\n",
       "      <th>776</th>\n",
       "      <td>1722.0</td>\n",
       "      <td>4.0</td>\n",
       "      <td>0.0</td>\n",
       "      <td>0</td>\n",
       "      <td>0</td>\n",
       "      <td>1</td>\n",
       "      <td>776</td>\n",
       "      <td>0</td>\n",
       "      <td>1</td>\n",
       "      <td>3</td>\n",
       "      <td>...</td>\n",
       "      <td>0</td>\n",
       "      <td>0</td>\n",
       "      <td>0</td>\n",
       "      <td>0</td>\n",
       "      <td>0</td>\n",
       "      <td>0</td>\n",
       "      <td>0</td>\n",
       "      <td>0</td>\n",
       "      <td>0</td>\n",
       "      <td>0</td>\n",
       "    </tr>\n",
       "    <tr>\n",
       "      <th>23</th>\n",
       "      <td>1255.0</td>\n",
       "      <td>51.0</td>\n",
       "      <td>0.0</td>\n",
       "      <td>0</td>\n",
       "      <td>0</td>\n",
       "      <td>0</td>\n",
       "      <td>23</td>\n",
       "      <td>0</td>\n",
       "      <td>1</td>\n",
       "      <td>1</td>\n",
       "      <td>...</td>\n",
       "      <td>0</td>\n",
       "      <td>0</td>\n",
       "      <td>0</td>\n",
       "      <td>0</td>\n",
       "      <td>0</td>\n",
       "      <td>0</td>\n",
       "      <td>0</td>\n",
       "      <td>0</td>\n",
       "      <td>0</td>\n",
       "      <td>0</td>\n",
       "    </tr>\n",
       "    <tr>\n",
       "      <th>540</th>\n",
       "      <td>1509.0</td>\n",
       "      <td>24.0</td>\n",
       "      <td>0.0</td>\n",
       "      <td>0</td>\n",
       "      <td>0</td>\n",
       "      <td>0</td>\n",
       "      <td>540</td>\n",
       "      <td>0</td>\n",
       "      <td>1</td>\n",
       "      <td>20</td>\n",
       "      <td>...</td>\n",
       "      <td>0</td>\n",
       "      <td>0</td>\n",
       "      <td>0</td>\n",
       "      <td>0</td>\n",
       "      <td>0</td>\n",
       "      <td>0</td>\n",
       "      <td>1</td>\n",
       "      <td>0</td>\n",
       "      <td>0</td>\n",
       "      <td>0</td>\n",
       "    </tr>\n",
       "    <tr>\n",
       "      <th>5819</th>\n",
       "      <td>556.0</td>\n",
       "      <td>61.0</td>\n",
       "      <td>0.0</td>\n",
       "      <td>0</td>\n",
       "      <td>0</td>\n",
       "      <td>0</td>\n",
       "      <td>5819</td>\n",
       "      <td>1</td>\n",
       "      <td>0</td>\n",
       "      <td>5</td>\n",
       "      <td>...</td>\n",
       "      <td>0</td>\n",
       "      <td>0</td>\n",
       "      <td>0</td>\n",
       "      <td>0</td>\n",
       "      <td>0</td>\n",
       "      <td>0</td>\n",
       "      <td>0</td>\n",
       "      <td>0</td>\n",
       "      <td>0</td>\n",
       "      <td>0</td>\n",
       "    </tr>\n",
       "    <tr>\n",
       "      <th>1636</th>\n",
       "      <td>2477.0</td>\n",
       "      <td>2.0</td>\n",
       "      <td>0.0</td>\n",
       "      <td>0</td>\n",
       "      <td>0</td>\n",
       "      <td>1</td>\n",
       "      <td>1636</td>\n",
       "      <td>0</td>\n",
       "      <td>1</td>\n",
       "      <td>0</td>\n",
       "      <td>...</td>\n",
       "      <td>0</td>\n",
       "      <td>0</td>\n",
       "      <td>0</td>\n",
       "      <td>0</td>\n",
       "      <td>0</td>\n",
       "      <td>0</td>\n",
       "      <td>0</td>\n",
       "      <td>1</td>\n",
       "      <td>0</td>\n",
       "      <td>0</td>\n",
       "    </tr>\n",
       "  </tbody>\n",
       "</table>\n",
       "<p>10 rows × 100 columns</p>\n",
       "</div>"
      ],
      "text/plain": [
       "      Ranking  Number_of_Reviews  Rating  Number_of_Reviews_isNAN  \\\n",
       "6452  15635.0               15.0     0.0                        0   \n",
       "8939   2398.0               13.0     0.0                        0   \n",
       "6410  12067.0                2.0     0.0                        0   \n",
       "3822   6804.0               15.0     0.0                        0   \n",
       "4830   1435.0               32.0     0.0                        0   \n",
       "776    1722.0                4.0     0.0                        0   \n",
       "23     1255.0               51.0     0.0                        0   \n",
       "540    1509.0               24.0     0.0                        0   \n",
       "5819    556.0               61.0     0.0                        0   \n",
       "1636   2477.0                2.0     0.0                        0   \n",
       "\n",
       "      Cuisine_Style_isNAN  Price_Range_isNAN  Restaurant_id_Code  Capital_0  \\\n",
       "6452                    0                  1                6452          0   \n",
       "8939                    1                  1                8939          1   \n",
       "6410                    1                  1                6410          0   \n",
       "3822                    0                  0                3822          0   \n",
       "4830                    0                  0                4830          0   \n",
       "776                     0                  1                 776          0   \n",
       "23                      0                  0                  23          0   \n",
       "540                     0                  0                 540          0   \n",
       "5819                    0                  0                5819          1   \n",
       "1636                    0                  1                1636          0   \n",
       "\n",
       "      Capital_1  Country_Code  ...  City_Munich  City_Oporto  City_Oslo  \\\n",
       "6452          1            22  ...            0            0          0   \n",
       "8939          0             5  ...            0            0          0   \n",
       "6410          1             5  ...            0            0          0   \n",
       "3822          1            22  ...            0            0          0   \n",
       "4830          1            14  ...            0            0          0   \n",
       "776           1             3  ...            0            0          0   \n",
       "23            1             1  ...            0            0          0   \n",
       "540           1            20  ...            0            0          0   \n",
       "5819          0             5  ...            0            0          0   \n",
       "1636          1             0  ...            0            0          0   \n",
       "\n",
       "      City_Paris  City_Prague  City_Rome  City_Stockholm  City_Vienna  \\\n",
       "6452           0            0          0               0            0   \n",
       "8939           0            0          0               0            0   \n",
       "6410           1            0          0               0            0   \n",
       "3822           0            0          0               0            0   \n",
       "4830           0            0          0               0            0   \n",
       "776            0            0          0               0            0   \n",
       "23             0            0          0               0            0   \n",
       "540            0            0          0               1            0   \n",
       "5819           0            0          0               0            0   \n",
       "1636           0            0          0               0            1   \n",
       "\n",
       "      City_Warsaw  City_Zurich  \n",
       "6452            0            0  \n",
       "8939            0            0  \n",
       "6410            0            0  \n",
       "3822            0            0  \n",
       "4830            1            0  \n",
       "776             0            0  \n",
       "23              0            0  \n",
       "540             0            0  \n",
       "5819            0            0  \n",
       "1636            0            0  \n",
       "\n",
       "[10 rows x 100 columns]"
      ]
     },
     "execution_count": 103,
     "metadata": {},
     "output_type": "execute_result"
    }
   ],
   "source": [
    "test_data.sample(10)"
   ]
  },
  {
   "cell_type": "code",
   "execution_count": 104,
   "metadata": {
    "execution": {
     "iopub.execute_input": "2021-06-09T10:41:36.703874Z",
     "iopub.status.busy": "2021-06-09T10:41:36.703537Z",
     "iopub.status.idle": "2021-06-09T10:41:36.710621Z",
     "shell.execute_reply": "2021-06-09T10:41:36.709575Z",
     "shell.execute_reply.started": "2021-06-09T10:41:36.703837Z"
    }
   },
   "outputs": [],
   "source": [
    "test_data = test_data.drop(['Rating'], axis=1)"
   ]
  },
  {
   "cell_type": "code",
   "execution_count": 105,
   "metadata": {
    "execution": {
     "iopub.execute_input": "2021-06-09T10:41:36.712321Z",
     "iopub.status.busy": "2021-06-09T10:41:36.711950Z",
     "iopub.status.idle": "2021-06-09T10:41:36.732503Z",
     "shell.execute_reply": "2021-06-09T10:41:36.731605Z",
     "shell.execute_reply.started": "2021-06-09T10:41:36.712180Z"
    }
   },
   "outputs": [
    {
     "data": {
      "text/html": [
       "<div>\n",
       "<style scoped>\n",
       "    .dataframe tbody tr th:only-of-type {\n",
       "        vertical-align: middle;\n",
       "    }\n",
       "\n",
       "    .dataframe tbody tr th {\n",
       "        vertical-align: top;\n",
       "    }\n",
       "\n",
       "    .dataframe thead th {\n",
       "        text-align: right;\n",
       "    }\n",
       "</style>\n",
       "<table border=\"1\" class=\"dataframe\">\n",
       "  <thead>\n",
       "    <tr style=\"text-align: right;\">\n",
       "      <th></th>\n",
       "      <th>Restaurant_id</th>\n",
       "      <th>Rating</th>\n",
       "    </tr>\n",
       "  </thead>\n",
       "  <tbody>\n",
       "    <tr>\n",
       "      <th>0</th>\n",
       "      <td>id_0</td>\n",
       "      <td>2.0</td>\n",
       "    </tr>\n",
       "    <tr>\n",
       "      <th>1</th>\n",
       "      <td>id_1</td>\n",
       "      <td>2.5</td>\n",
       "    </tr>\n",
       "    <tr>\n",
       "      <th>2</th>\n",
       "      <td>id_2</td>\n",
       "      <td>4.0</td>\n",
       "    </tr>\n",
       "    <tr>\n",
       "      <th>3</th>\n",
       "      <td>id_3</td>\n",
       "      <td>1.0</td>\n",
       "    </tr>\n",
       "    <tr>\n",
       "      <th>4</th>\n",
       "      <td>id_4</td>\n",
       "      <td>4.0</td>\n",
       "    </tr>\n",
       "    <tr>\n",
       "      <th>...</th>\n",
       "      <td>...</td>\n",
       "      <td>...</td>\n",
       "    </tr>\n",
       "    <tr>\n",
       "      <th>9995</th>\n",
       "      <td>id_9995</td>\n",
       "      <td>3.0</td>\n",
       "    </tr>\n",
       "    <tr>\n",
       "      <th>9996</th>\n",
       "      <td>id_9996</td>\n",
       "      <td>1.5</td>\n",
       "    </tr>\n",
       "    <tr>\n",
       "      <th>9997</th>\n",
       "      <td>id_9997</td>\n",
       "      <td>4.5</td>\n",
       "    </tr>\n",
       "    <tr>\n",
       "      <th>9998</th>\n",
       "      <td>id_9998</td>\n",
       "      <td>1.0</td>\n",
       "    </tr>\n",
       "    <tr>\n",
       "      <th>9999</th>\n",
       "      <td>id_9999</td>\n",
       "      <td>2.5</td>\n",
       "    </tr>\n",
       "  </tbody>\n",
       "</table>\n",
       "<p>10000 rows × 2 columns</p>\n",
       "</div>"
      ],
      "text/plain": [
       "     Restaurant_id  Rating\n",
       "0             id_0     2.0\n",
       "1             id_1     2.5\n",
       "2             id_2     4.0\n",
       "3             id_3     1.0\n",
       "4             id_4     4.0\n",
       "...            ...     ...\n",
       "9995       id_9995     3.0\n",
       "9996       id_9996     1.5\n",
       "9997       id_9997     4.5\n",
       "9998       id_9998     1.0\n",
       "9999       id_9999     2.5\n",
       "\n",
       "[10000 rows x 2 columns]"
      ]
     },
     "execution_count": 105,
     "metadata": {},
     "output_type": "execute_result"
    }
   ],
   "source": [
    "sample_submission"
   ]
  },
  {
   "cell_type": "code",
   "execution_count": 106,
   "metadata": {
    "execution": {
     "iopub.execute_input": "2021-06-09T10:41:36.734263Z",
     "iopub.status.busy": "2021-06-09T10:41:36.733880Z",
     "iopub.status.idle": "2021-06-09T10:41:36.880408Z",
     "shell.execute_reply": "2021-06-09T10:41:36.879718Z",
     "shell.execute_reply.started": "2021-06-09T10:41:36.734109Z"
    }
   },
   "outputs": [
    {
     "name": "stderr",
     "output_type": "stream",
     "text": [
      "[Parallel(n_jobs=4)]: Using backend ThreadingBackend with 4 concurrent workers.\n",
      "[Parallel(n_jobs=4)]: Done  42 tasks      | elapsed:    0.0s\n",
      "[Parallel(n_jobs=4)]: Done 100 out of 100 | elapsed:    0.1s finished\n"
     ]
    }
   ],
   "source": [
    "predict_submission = predict(test_data)"
   ]
  },
  {
   "cell_type": "code",
   "execution_count": 107,
   "metadata": {
    "execution": {
     "iopub.execute_input": "2021-06-09T10:41:36.881897Z",
     "iopub.status.busy": "2021-06-09T10:41:36.881617Z",
     "iopub.status.idle": "2021-06-09T10:41:36.887896Z",
     "shell.execute_reply": "2021-06-09T10:41:36.886939Z",
     "shell.execute_reply.started": "2021-06-09T10:41:36.881848Z"
    }
   },
   "outputs": [
    {
     "data": {
      "text/plain": [
       "array([3. , 4. , 4.5, ..., 3. , 4.5, 4. ])"
      ]
     },
     "execution_count": 107,
     "metadata": {},
     "output_type": "execute_result"
    }
   ],
   "source": [
    "predict_submission"
   ]
  },
  {
   "cell_type": "code",
   "execution_count": 108,
   "metadata": {
    "execution": {
     "iopub.execute_input": "2021-06-09T10:41:36.889491Z",
     "iopub.status.busy": "2021-06-09T10:41:36.889233Z",
     "iopub.status.idle": "2021-06-09T10:41:36.937600Z",
     "shell.execute_reply": "2021-06-09T10:41:36.936693Z",
     "shell.execute_reply.started": "2021-06-09T10:41:36.889445Z"
    }
   },
   "outputs": [
    {
     "data": {
      "text/html": [
       "<div>\n",
       "<style scoped>\n",
       "    .dataframe tbody tr th:only-of-type {\n",
       "        vertical-align: middle;\n",
       "    }\n",
       "\n",
       "    .dataframe tbody tr th {\n",
       "        vertical-align: top;\n",
       "    }\n",
       "\n",
       "    .dataframe thead th {\n",
       "        text-align: right;\n",
       "    }\n",
       "</style>\n",
       "<table border=\"1\" class=\"dataframe\">\n",
       "  <thead>\n",
       "    <tr style=\"text-align: right;\">\n",
       "      <th></th>\n",
       "      <th>Restaurant_id</th>\n",
       "      <th>Rating</th>\n",
       "    </tr>\n",
       "  </thead>\n",
       "  <tbody>\n",
       "    <tr>\n",
       "      <th>0</th>\n",
       "      <td>id_0</td>\n",
       "      <td>3.0</td>\n",
       "    </tr>\n",
       "    <tr>\n",
       "      <th>1</th>\n",
       "      <td>id_1</td>\n",
       "      <td>4.0</td>\n",
       "    </tr>\n",
       "    <tr>\n",
       "      <th>2</th>\n",
       "      <td>id_2</td>\n",
       "      <td>4.5</td>\n",
       "    </tr>\n",
       "    <tr>\n",
       "      <th>3</th>\n",
       "      <td>id_3</td>\n",
       "      <td>4.5</td>\n",
       "    </tr>\n",
       "    <tr>\n",
       "      <th>4</th>\n",
       "      <td>id_4</td>\n",
       "      <td>4.5</td>\n",
       "    </tr>\n",
       "    <tr>\n",
       "      <th>5</th>\n",
       "      <td>id_5</td>\n",
       "      <td>4.5</td>\n",
       "    </tr>\n",
       "    <tr>\n",
       "      <th>6</th>\n",
       "      <td>id_6</td>\n",
       "      <td>1.0</td>\n",
       "    </tr>\n",
       "    <tr>\n",
       "      <th>7</th>\n",
       "      <td>id_7</td>\n",
       "      <td>3.5</td>\n",
       "    </tr>\n",
       "    <tr>\n",
       "      <th>8</th>\n",
       "      <td>id_8</td>\n",
       "      <td>4.0</td>\n",
       "    </tr>\n",
       "    <tr>\n",
       "      <th>9</th>\n",
       "      <td>id_9</td>\n",
       "      <td>4.5</td>\n",
       "    </tr>\n",
       "  </tbody>\n",
       "</table>\n",
       "</div>"
      ],
      "text/plain": [
       "  Restaurant_id  Rating\n",
       "0          id_0     3.0\n",
       "1          id_1     4.0\n",
       "2          id_2     4.5\n",
       "3          id_3     4.5\n",
       "4          id_4     4.5\n",
       "5          id_5     4.5\n",
       "6          id_6     1.0\n",
       "7          id_7     3.5\n",
       "8          id_8     4.0\n",
       "9          id_9     4.5"
      ]
     },
     "execution_count": 108,
     "metadata": {},
     "output_type": "execute_result"
    }
   ],
   "source": [
    "sample_submission['Rating'] = predict_submission\n",
    "sample_submission.to_csv('submission.csv', index=False)\n",
    "sample_submission.head(10)"
   ]
  },
  {
   "cell_type": "markdown",
   "metadata": {},
   "source": [
    "# What's next?\n",
    "Или что делать, чтоб улучшить результат:\n",
    "* Обработать оставшиеся признаки в понятный для машины формат\n",
    "* Посмотреть, что еще можно извлечь из признаков\n",
    "* Сгенерировать новые признаки\n",
    "* Подгрузить дополнительные данные, например: по населению или благосостоянию городов\n",
    "* Подобрать состав признаков\n",
    "\n",
    "В общем, процесс творческий и весьма увлекательный! Удачи в соревновании!\n"
   ]
  }
 ],
 "metadata": {
  "kernelspec": {
   "display_name": "Python 3",
   "language": "python",
   "name": "python3"
  },
  "language_info": {
   "codemirror_mode": {
    "name": "ipython",
    "version": 3
   },
   "file_extension": ".py",
   "mimetype": "text/x-python",
   "name": "python",
   "nbconvert_exporter": "python",
   "pygments_lexer": "ipython3",
   "version": "3.6.6"
  }
 },
 "nbformat": 4,
 "nbformat_minor": 4
}
